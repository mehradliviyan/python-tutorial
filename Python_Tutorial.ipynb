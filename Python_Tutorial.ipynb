{
 "cells": [
  {
   "cell_type": "markdown",
   "metadata": {},
   "source": [
    "<div style=\"display:block;width:100%;margin:auto;\" direction=rtl align=center><br><br>\n",
    "    <div  style=\"width:100%;margin:100;display:block;background-color:#fff0;\"  display=block align=center>\n",
    "        <table style=\"border-style:hidden;border-collapse:collapse;\">\n",
    "            <tr>\n",
    "                <td  style=\"border: none!important;\">\n",
    "                    <img width=130 align=right src=\"https://i.ibb.co/yXKQmtZ/logo1.png\" style=\"margin:0;\" />\n",
    "                </td>\n",
    "                <td style=\"text-align:center;border: none!important;\">\n",
    "                    <h1 align=center><font size=5 color=\"skyblue\">University of Tehran</i></font></h1>\n",
    "                </td>\n",
    "                <td style=\"border: none!important;\">\n",
    "                    <img width=170 align=left  src=\"https://i.ibb.co/wLjqFkw/logo2.png\" style=\"margin:0;\" />\n",
    "                </td>\n",
    "            </tr>\n",
    "        </table>\n",
    "    </div>\n",
    "</div>"
   ]
  },
  {
   "cell_type": "markdown",
   "metadata": {},
   "source": [
    "<h1 style = \"color:orange;\" dir = \"ltr\"> <b>\n",
    "    Summer Class\n",
    "</b> </h1>\n",
    "\n",
    "<h1 style = \"color:orange;\" dir = \"ltr\"> <b>\n",
    "    Python Tutorial\n",
    "</b> </h1>\n",
    "\n",
    "<h1 style = \"color:orange;\" dir = \"ltr\"> <b>\n",
    "    The Comprehensive Guide\n",
    "</b> </h1>"
   ]
  },
  {
   "cell_type": "markdown",
   "metadata": {},
   "source": [
    "<h1 style = \"color:red;text-align: center;font-size:50px\"> <b>\n",
    "    Table of Contents\n",
    "</b> </h1>"
   ]
  },
  {
   "cell_type": "markdown",
   "metadata": {},
   "source": [
    "- [Introduction](#intro)  \n",
    "\n",
    "- [Start](#start)  \n",
    "\n",
    "- [List](#list)  \n",
    "\n",
    "- [Tuple](#tuple)  \n",
    "\n",
    "- [Set](#set)  \n",
    "\n",
    "- [Dictionaries](#dictionaries)  \n",
    "\n",
    "- [If...Else](#if)  \n",
    "\n",
    "- [Loops](#loops)  \n",
    "\n",
    "- [Functions](#functions)  \n",
    "\n",
    "- [Scope](#scope) \n",
    "\n",
    "- [Try](#try)  \n",
    "\n",
    "- [Decorators](#decorators)  \n",
    "\n",
    "- [Class](#class)  \n",
    "\n",
    "- [str() vs repr()](#str_vs_repr)  \n",
    "\n",
    "- [Iterators](#iterators)  \n",
    "\n",
    "- [Modules](#modules)  \n",
    "\n",
    "- [Generators](#generators)  \n",
    "\n",
    "- [ID](#id)  \n",
    "\n",
    "- [References](#references)  "
   ]
  },
  {
   "cell_type": "markdown",
   "metadata": {},
   "source": [
    "<a id='intro'></a>\n",
    "\n",
    "<h1 style = \"color:red;text-align: center;font-size:50px\"> <b>\n",
    "    Introduction\n",
    "</b> </h1>"
   ]
  },
  {
   "cell_type": "markdown",
   "metadata": {},
   "source": [
    "<a id='st1'></a>\n",
    "\n",
    "<h1 style = \"color:green;font-size:30px\" dir = \"ltr\"> <b>\n",
    "    Python:\n",
    "</b> </h1> "
   ]
  },
  {
   "cell_type": "markdown",
   "metadata": {},
   "source": [
    "**[Python](https://www.python.org/)** is an interpreted high-level general-purpose programming language. Its design philosophy emphasizes code readability with the use of significant indentation. Its language constructs and object-oriented\n",
    "Python is dynamically-typed and garbage-collected. It supports multiple programming paradigms, including structured (particularly, procedural), object-oriented and functional programming. It is often described as a \"batteries included\" language due to its comprehensive standard library.\n",
    "\n",
    "Guido van Rossum began working on Python in the late 1980s, as a successor to the ABC programming language, and first released it in 1991 as Python 0.9.0. Python 2.0 was released in 2000 and introduced new features such as list comprehensions, cycle-detecting garbage collection, reference counting, and Unicode support. Python 3.0, released in 2008, was a major revision that is not completely backward-compatible with earlier versions. Python 2 was discontinued with version 2.7.18 in 2020."
   ]
  },
  {
   "cell_type": "markdown",
   "metadata": {},
   "source": [
    "<a id='st1'></a>\n",
    "\n",
    "<h1 style = \"color:green;font-size:30px\" dir = \"ltr\"> <b>\n",
    "    Text editor/IDE options:\n",
    "</b> </h1> "
   ]
  },
  {
   "cell_type": "markdown",
   "metadata": {},
   "source": [
    "Text editors are lightweight programs designed to create and edit plain text. For programming, many text editors offer syntax highlighting and other features through plugins or extensions, making them suitable for writing Python code. They are simpler and faster to use than full-fledged IDEs but usually offer fewer features out of the box.\n",
    "\n",
    "Integrated Development Environments (IDEs) are more advanced than text editors. They provide a comprehensive suite of tools for software development, including a debugger, code linting, version control integration, testing support, and more. IDEs are particularly useful for larger projects."
   ]
  },
  {
   "cell_type": "markdown",
   "metadata": {},
   "source": [
    "- PyCharm (IDE)\n",
    "<img width=50 src=\"https://upload.wikimedia.org/wikipedia/commons/1/1d/PyCharm_Icon.svg\" align=center>  \n",
    "- Visual Studio Code (VS Code)\n",
    "<img width=50 src=\"https://logowik.com/content/uploads/images/visual-studio-code7642.jpg\" align=center>  \n",
    "- Spyder (IDE) \n",
    "<img width=50 src=\"https://encrypted-tbn0.gstatic.com/images?q=tbn:ANd9GcSObVVcQtIg01tnk7TT3PZqrs9bp3nT7Zh7CPd7tvUbav31DoBFCvXHGAVxRtHFsD0_AY8&usqp=CAU\" align=center> \n",
    "- Jupyter Notebook (IDE)\n",
    "<img width=50 src=\"https://jupyter.org/assets/homepage/main-logo.svg\" align=center> \n",
    "- Sublime Text\n",
    "<img width=50 src=\"https://upload.wikimedia.org/wikipedia/commons/thumb/7/79/Breezeicons-apps-48-sublime-text.svg/1200px-Breezeicons-apps-48-sublime-text.svg.png\" align=center>  \n",
    "- Atom \n",
    "<img width=50 src=\"https://cdn.worldvectorlogo.com/logos/atom-4.svg\" align=center>  \n",
    "- Notepad ++/gedit \n",
    "<img width=50 src=\"https://assets.website-files.com/5c1b064db9734016ca52ab39/5cbd3485e13a034ec740cff0_logo_notepad.png\" align=center>  \n",
    "- Vim (for Linux)\n",
    "<img width=50 src=\"https://upload.wikimedia.org/wikipedia/commons/thumb/9/9f/Vimlogo.svg/1022px-Vimlogo.svg.png\" align=center> "
   ]
  },
  {
   "cell_type": "markdown",
   "metadata": {},
   "source": [
    "<a id='start'></a>\n",
    "\n",
    "<h1 style = \"color:red;text-align: center;font-size:50px\"> <b>\n",
    "    Start\n",
    "</b> </h1>"
   ]
  },
  {
   "cell_type": "markdown",
   "metadata": {},
   "source": [
    "<a id='st1'></a>\n",
    "\n",
    "<h1 style = \"color:green;font-size:30px\" dir = \"ltr\"> <b>\n",
    "    Print:\n",
    "</b> </h1> "
   ]
  },
  {
   "cell_type": "markdown",
   "metadata": {},
   "source": [
    "The `print()` function in Python is used to output text or other data to the console or terminal. It can print strings, numbers, variables, and more.\n",
    "\n",
    "Syntax:\n",
    "\n",
    "``` python\n",
    "print(*objects, sep=' ', end='\\n', file=sys.stdout, flush=False)\n",
    "```\n",
    "\n",
    "- `*objects`: Any number of objects or values you want to print, separated by commas.\n",
    "\n",
    "- `sep`: The separator between multiple objects. By default, it's a space (' ').\n",
    "\n",
    "- `end`: The string appended after the last object. By default, it's a newline ('\\n'), meaning each print() call will start on a new line.\n",
    "\n",
    "- `file`: The output stream where the message will be sent (default is sys.stdout).\n",
    "\n",
    "- `flush`: Whether to forcibly flush the stream (default is False).\n"
   ]
  },
  {
   "cell_type": "code",
   "execution_count": 3,
   "metadata": {},
   "outputs": [
    {
     "name": "stdout",
     "output_type": "stream",
     "text": [
      "Hello World!\n",
      "Hello World!\n",
      "\n",
      "***********\n",
      "\n",
      "Welcome to this tutorial\n",
      "I hope this tutorial will be useful for you\n",
      "1 * 2 * 3\n"
     ]
    }
   ],
   "source": [
    "print(\"Hello World!\")                              # This is a comment!\n",
    "\n",
    "print(\"Hello World!\", end=\"\\n\\n***********\\n\\n\")   # Default value = \"\\n\"\n",
    "\n",
    "print(\"Welcome to this tutorial\", \"\\n\", \"I hope this tutorial will be useful for you\", sep=\"\")\n",
    "\n",
    "print(1, 2, 3, sep=\" * \")"
   ]
  },
  {
   "cell_type": "markdown",
   "metadata": {},
   "source": [
    "<a id='st1'></a>\n",
    "\n",
    "<h1 style = \"color:green;font-size:30px\" dir = \"ltr\"> <b>\n",
    "    Variables:\n",
    "</b> </h1> "
   ]
  },
  {
   "cell_type": "markdown",
   "metadata": {},
   "source": [
    "A variable can have a short name (like x and y) or a more descriptive name (age, carname, total_volume). Rules for Python variables:\n",
    "\n",
    "- A variable name must start with a letter or the underscore character\n",
    "\n",
    "- A variable name cannot start with a number\n",
    "\n",
    "- A variable name can only contain alpha-numeric characters and underscores (A-z, 0-9, and _ )\n",
    "\n",
    "- Variable names are case-sensitive (age, Age and AGE are three different variables)\n",
    "\n",
    "- A variable name cannot be any of the Python keywords.\n",
    "\n",
    "- Variables do not need to be declared with any particular type, and can even change type after they have been set."
   ]
  },
  {
   "cell_type": "code",
   "execution_count": 1,
   "metadata": {},
   "outputs": [
    {
     "name": "stdout",
     "output_type": "stream",
     "text": [
      "<class 'int'>\n",
      "<class 'str'>\n"
     ]
    }
   ],
   "source": [
    "x = 4                       # x is of type int\n",
    "print(type(x))\n",
    "\n",
    "x = \"mahdi\"                 # x is now of type str\n",
    "print(type(x))\n",
    "\n",
    "# Many Values to Multiple Variables\n",
    "x, y, z = \"Orange\", \"Banana\", \"Cherry\"\n",
    "\n",
    "# One Value to Multiple Variables\n",
    "x = y = z = \"Orange\""
   ]
  },
  {
   "cell_type": "markdown",
   "metadata": {},
   "source": [
    "Multi Words Variable Names:\n",
    "\n",
    "1. Camel Case: Each word, except the first, starts with a capital letter.\n",
    "```python\n",
    "    >>> myVariableName = \"mahdi\"\n",
    "```\n",
    "\n",
    "2. Pascal Case: Each word starts with a capital letter.\n",
    "```python\n",
    "    >>> MyVariableName = \"mahdi\"\n",
    "```\n",
    "\n",
    "3. Snake Case: Each word is separated by an underscore character.\n",
    "```python\n",
    "    >>> my_variable_name = \"mahdi\"\n",
    "```"
   ]
  },
  {
   "cell_type": "code",
   "execution_count": 2,
   "metadata": {},
   "outputs": [
    {
     "name": "stdout",
     "output_type": "stream",
     "text": [
      "mahdi\n"
     ]
    }
   ],
   "source": [
    "my_name = \"mahdi\"\n",
    "print(my_name)"
   ]
  },
  {
   "cell_type": "markdown",
   "metadata": {},
   "source": [
    "In Python, swapping values between two variables is a simple task. In the example provided, number1 and number2 are initialized with values 1 and 2. Using Python's tuple unpacking feature, `number1, number2 = number2, number1` swaps the values between the two variables in a single line of code."
   ]
  },
  {
   "cell_type": "code",
   "execution_count": null,
   "metadata": {},
   "outputs": [],
   "source": [
    "# swap\n",
    "number1 = 1\n",
    "number2 = 2\n",
    "print(number1, number2)\n",
    "\n",
    "number1, number2 = number2, number1\n",
    "print(number1, number2)"
   ]
  },
  {
   "cell_type": "markdown",
   "metadata": {},
   "source": [
    "<a id='st1'></a>\n",
    "\n",
    "<h1 style = \"color:green;font-size:30px\" dir = \"ltr\"> <b>\n",
    "    Input:\n",
    "</b> </h1> "
   ]
  },
  {
   "cell_type": "markdown",
   "metadata": {},
   "source": [
    "Python allows for user input.\n",
    "\n",
    "That means we are able to ask the user for input.\n",
    "\n",
    "The method is a bit different in Python 3.6 than Python 2.7.\n",
    "\n",
    "Python 3.6 uses the `input()` method.\n",
    "\n",
    "Python 2.7 uses the `raw_input()` method."
   ]
  },
  {
   "cell_type": "code",
   "execution_count": 3,
   "metadata": {},
   "outputs": [
    {
     "name": "stdout",
     "output_type": "stream",
     "text": [
      "Username is: mahdi\n"
     ]
    }
   ],
   "source": [
    "username = input(\"Enter username:\")\n",
    "print(\"Username is: \" + username)"
   ]
  },
  {
   "cell_type": "markdown",
   "metadata": {},
   "source": [
    "<a id='st1'></a>\n",
    "\n",
    "<h1 style = \"color:green;font-size:30px\" dir = \"ltr\"> <b>\n",
    "    Built-in Data Types:\n",
    "</b> </h1> "
   ]
  },
  {
   "cell_type": "markdown",
   "metadata": {},
   "source": [
    "Python has the following data types built-in by default, in these categories:\n",
    "\n",
    "- Text Type:\tstr\n",
    "\n",
    "- Numeric Types:\tint, float, complex\n",
    "\n",
    "- Sequence Types:\tlist, tuple, range\n",
    "\n",
    "- Mapping Type:\tdict\n",
    "\n",
    "- Set Types:\tset, frozenset\n",
    "\n",
    "- Boolean Type:\tbool\n",
    "\n",
    "- Binary Types:\tbytes, bytearray, memoryview\n",
    "\n",
    "- None Type:\tNoneType"
   ]
  },
  {
   "cell_type": "code",
   "execution_count": 10,
   "metadata": {},
   "outputs": [
    {
     "name": "stdout",
     "output_type": "stream",
     "text": [
      "(-25+15j)\n"
     ]
    }
   ],
   "source": [
    "x = \"Hello World\"\t                                    #str\t\n",
    "x = 20\t                                                #int\t\n",
    "x = 20.5\t                                            #float\t\n",
    "x = 1j\t                                                #complex\t\n",
    "x = [\"apple\", \"banana\", \"cherry\"]\t                    #list\t\n",
    "x = (\"apple\", \"banana\", \"cherry\")\t                    #tuple\t\n",
    "x = range(6)\t                                        #range\t\n",
    "x = {\"name\" : \"John\", \"age\" : 36}\t                    #dict\t\n",
    "x = {\"apple\", \"banana\", \"cherry\"}\t                    #set\t\n",
    "x = frozenset({\"apple\", \"banana\", \"cherry\"})\t        #frozenset\t\n",
    "x = True\t                                            #bool\t\n",
    "x = b\"Hello\"\t                                        #bytes\t\n",
    "x = bytearray(5)\t                                    #bytearray\t\n",
    "x = memoryview(bytes(5))\t                            #memoryview\t\n",
    "x = None\t                                            #NoneType"
   ]
  },
  {
   "cell_type": "markdown",
   "metadata": {},
   "source": [
    "<a id='st1'></a>\n",
    "\n",
    "<h1 style = \"color:green;font-size:30px\" dir = \"ltr\"> <b>\n",
    "    Casting:\n",
    "</b> </h1> \n",
    "\n",
    "Casting: If you want to specify the data type of a variable, this can be done with casting."
   ]
  },
  {
   "cell_type": "code",
   "execution_count": 12,
   "metadata": {},
   "outputs": [],
   "source": [
    "v = str(3)    # x will be '3'\n",
    "x = int(3)    # y will be 3\n",
    "y = float(3)  # z will be 3.0\n",
    "z = int(\"3\")  # z will be 3"
   ]
  },
  {
   "cell_type": "markdown",
   "metadata": {},
   "source": [
    "<a id='st1'></a>\n",
    "\n",
    "<h1 style = \"color:green;font-size:30px\" dir = \"ltr\"> <b>\n",
    "    Numbers:\n",
    "</b> </h1> \n",
    "\n",
    "There are three numeric types in Python:\n",
    "\n",
    "- int\n",
    "\n",
    "- float\n",
    "\n",
    "- complex"
   ]
  },
  {
   "cell_type": "code",
   "execution_count": 14,
   "metadata": {},
   "outputs": [],
   "source": [
    "x = 1    # int\n",
    "y = 2.8  # float\n",
    "z = 1j   # complex"
   ]
  },
  {
   "cell_type": "markdown",
   "metadata": {},
   "source": [
    "Float can also be scientific numbers with an \"e\" to indicate the power of 10."
   ]
  },
  {
   "cell_type": "code",
   "execution_count": 2,
   "metadata": {},
   "outputs": [],
   "source": [
    "x = 35e3\n",
    "y = 12E4\n",
    "z = -87.7e100"
   ]
  },
  {
   "cell_type": "markdown",
   "metadata": {},
   "source": [
    "Complex numbers are written with a \"j\" as the imaginary part:"
   ]
  },
  {
   "cell_type": "code",
   "execution_count": 1,
   "metadata": {},
   "outputs": [
    {
     "name": "stdout",
     "output_type": "stream",
     "text": [
      "(-25+15j)\n"
     ]
    }
   ],
   "source": [
    "number1 = 3 + 5j\n",
    "number2 = 5j\n",
    "print(number1 * number2)"
   ]
  },
  {
   "cell_type": "markdown",
   "metadata": {},
   "source": [
    "Python does not have a random() function to make a random number, but Python has a built-in module called random that can be used to make random numbers."
   ]
  },
  {
   "cell_type": "code",
   "execution_count": 18,
   "metadata": {},
   "outputs": [
    {
     "name": "stdout",
     "output_type": "stream",
     "text": [
      "6\n"
     ]
    }
   ],
   "source": [
    "import random\n",
    "\n",
    "print(random.randrange(1, 10))  # Random number between 1 and 9"
   ]
  },
  {
   "cell_type": "markdown",
   "metadata": {},
   "source": [
    "<a id='st1'></a>\n",
    "\n",
    "<h1 style = \"color:green;font-size:30px\" dir = \"ltr\"> <b>\n",
    "    String:\n",
    "</b> </h1> "
   ]
  },
  {
   "cell_type": "markdown",
   "metadata": {},
   "source": [
    "String variables can be declared either by using single or double quotes:"
   ]
  },
  {
   "cell_type": "code",
   "execution_count": null,
   "metadata": {},
   "outputs": [],
   "source": [
    "my_name = \"mahdi\"\n",
    "# is the same as\n",
    "my_name = 'mahdi'"
   ]
  },
  {
   "cell_type": "markdown",
   "metadata": {},
   "source": [
    "ou can assign a multiline string to a variable by using three quotes:"
   ]
  },
  {
   "cell_type": "code",
   "execution_count": 17,
   "metadata": {},
   "outputs": [
    {
     "name": "stdout",
     "output_type": "stream",
     "text": [
      "Python is a popular programming language. \n",
      "It was created by Guido van Rossum, and released in 1991.\n",
      "The most recent major version of Python is Python 3, which we shall be using in this tutorial.\n"
     ]
    }
   ],
   "source": [
    "a = \"\"\"Python is a popular programming language. \n",
    "It was created by Guido van Rossum, and released in 1991.\n",
    "The most recent major version of Python is Python 3, which we shall be using in this tutorial.\"\"\"\n",
    "\n",
    "print(a)"
   ]
  },
  {
   "cell_type": "markdown",
   "metadata": {},
   "source": [
    "To get the length of a string, use the `len()` function."
   ]
  },
  {
   "cell_type": "code",
   "execution_count": 18,
   "metadata": {},
   "outputs": [
    {
     "name": "stdout",
     "output_type": "stream",
     "text": [
      "13\n"
     ]
    }
   ],
   "source": [
    "a = \"Hello, World!\"\n",
    "print(len(a))"
   ]
  },
  {
   "cell_type": "markdown",
   "metadata": {},
   "source": [
    "To check if a certain phrase or character is present in a string, we can use the keyword `in`.\n",
    "\n",
    "To check if a certain phrase or character is NOT present in a string, we can use the keyword `not in`."
   ]
  },
  {
   "cell_type": "code",
   "execution_count": 22,
   "metadata": {},
   "outputs": [
    {
     "name": "stdout",
     "output_type": "stream",
     "text": [
      "True\n",
      "False\n"
     ]
    }
   ],
   "source": [
    "txt = \"Hello World!\"\n",
    "print(\"World\" in txt)\n",
    "\n",
    "print(\"World\" not in txt)"
   ]
  },
  {
   "cell_type": "markdown",
   "metadata": {},
   "source": [
    "Slicing: You can return a range of characters by using the slice syntax."
   ]
  },
  {
   "cell_type": "code",
   "execution_count": 30,
   "metadata": {},
   "outputs": [
    {
     "name": "stdout",
     "output_type": "stream",
     "text": [
      "e\n",
      "llo\n",
      "Hello\n",
      ", World!\n",
      "World\n"
     ]
    }
   ],
   "source": [
    "text = \"Hello, World!\"\n",
    "\n",
    "print(text[1])          #Get the character at position 1 (remember that the first character has the position 0)\n",
    "\n",
    "print(text[2:5])        # Slicing\n",
    "\n",
    "print(text[:5])         # Slice From the Start\n",
    "\n",
    "print(text[5:])         # Slice To the End\n",
    "\n",
    "print(text[-6:-1])      # Negative Indexing"
   ]
  },
  {
   "cell_type": "markdown",
   "metadata": {},
   "source": [
    "Modify Strings: Python has a set of built-in methods that you can use on strings."
   ]
  },
  {
   "cell_type": "code",
   "execution_count": 38,
   "metadata": {},
   "outputs": [
    {
     "name": "stdout",
     "output_type": "stream",
     "text": [
      "I LOVE THIS COURSE. (upper)\n",
      "i love this course. lower\n",
      "I love this course. (capitalize)\n",
      "I love this course. (strip)\n"
     ]
    }
   ],
   "source": [
    "print('I love this course.'.upper()+' (upper)')                 \n",
    "print('I love this course.'.lower()+ ' lower')                 \n",
    "print('i love this course.'.capitalize()+ ' (capitalize)')\n",
    "\n",
    "# Whitespace is the space before and/or after the actual text, and very often you want to remove this space.\n",
    "print('       I love this course.       '.strip()+ ' (strip)')"
   ]
  },
  {
   "cell_type": "markdown",
   "metadata": {},
   "source": [
    "The `replace()` method replaces a string with another string:"
   ]
  },
  {
   "cell_type": "code",
   "execution_count": 39,
   "metadata": {},
   "outputs": [
    {
     "name": "stdout",
     "output_type": "stream",
     "text": [
      "Jello, World!\n"
     ]
    }
   ],
   "source": [
    "a = \"Hello, World!\"\n",
    "print(a.replace(\"H\", \"J\"))"
   ]
  },
  {
   "cell_type": "markdown",
   "metadata": {},
   "source": [
    "The `split()` method returns a list where the text between the specified separator becomes the list items."
   ]
  },
  {
   "cell_type": "code",
   "execution_count": 40,
   "metadata": {},
   "outputs": [
    {
     "name": "stdout",
     "output_type": "stream",
     "text": [
      "['Hello', ' World!']\n"
     ]
    }
   ],
   "source": [
    "a = \"Hello, World!\"\n",
    "print(a.split(\",\")) # returns ['Hello', ' World!']"
   ]
  },
  {
   "cell_type": "markdown",
   "metadata": {},
   "source": [
    "Learn more about String Methods in [String Methods](https://www.w3schools.com/python/python_strings_methods.asp) chapter."
   ]
  },
  {
   "cell_type": "markdown",
   "metadata": {},
   "source": [
    "F-Strings: To specify a string as an f-string, simply put an `f` in front of the string literal, and add curly brackets `{}` as placeholders for variables and other operations."
   ]
  },
  {
   "cell_type": "code",
   "execution_count": 47,
   "metadata": {},
   "outputs": [
    {
     "name": "stdout",
     "output_type": "stream",
     "text": [
      "My name is mahdi, I am 100\n",
      "My name is mahdi, I am 100\n",
      "My name is mahdi, I am 100\n",
      "The price is 59.00 dollars\n",
      "It is very Expensive\n"
     ]
    }
   ],
   "source": [
    "age = 100\n",
    "name = \"mahdi\"\n",
    "txt = f\"My name is {name}, I am {age}\"\n",
    "print(txt)\n",
    "txt = (\"My name is \" + name + \", I am \" + str(age))\n",
    "print(txt)\n",
    "text = \"My name is {}, I am {}\"\n",
    "print(text.format(name,age))\n",
    "\n",
    "\n",
    "price = 59\n",
    "txt = f\"The price is {price:.2f} dollars\"\n",
    "print(txt)\n",
    "\n",
    "txt = f\"It is very {'Expensive' if price>50 else 'Cheap'}\"\n",
    "print(txt)\n"
   ]
  },
  {
   "cell_type": "markdown",
   "metadata": {},
   "source": [
    "Learn more about String Formatting in [String Formatting](https://www.w3schools.com/python/python_string_formatting.asp) chapter."
   ]
  },
  {
   "cell_type": "markdown",
   "metadata": {},
   "source": [
    "<a id='st1'></a>\n",
    "\n",
    "<h1 style = \"color:green;font-size:30px\" dir = \"ltr\"> <b>\n",
    "    Operators:\n",
    "</b> </h1> "
   ]
  },
  {
   "cell_type": "code",
   "execution_count": 93,
   "metadata": {},
   "outputs": [
    {
     "name": "stdout",
     "output_type": "stream",
     "text": [
      "5\n",
      "10\n",
      "25\n",
      "2.5\n",
      "2\n",
      "1\n"
     ]
    }
   ],
   "source": [
    "print(4 + 2 - 1) #5\n",
    "\n",
    "print(5 * 2)     # 10\n",
    "\n",
    "print(5 ** 2)    # 25\n",
    "\n",
    "print(5 / 2)     # 2.5\n",
    "\n",
    "print( 5 // 2)   # 2\n",
    "\n",
    "print(5 % 2)     # 1"
   ]
  },
  {
   "cell_type": "code",
   "execution_count": 97,
   "metadata": {},
   "outputs": [
    {
     "name": "stdout",
     "output_type": "stream",
     "text": [
      "False\n",
      "True\n",
      "False\n",
      "True\n",
      "False\n",
      "True\n"
     ]
    }
   ],
   "source": [
    "print(3 == 4)   # False\n",
    "\n",
    "print(3 != 4)   # True\n",
    "\n",
    "print(3 > 4)   # False\n",
    "\n",
    "print(3 < 4)   # True\n",
    "\n",
    "print(3 >= 4)   # False\n",
    "\n",
    "print(3 <= 4)   # True"
   ]
  },
  {
   "cell_type": "markdown",
   "metadata": {},
   "source": [
    "<a id='list'></a>\n",
    "\n",
    "<h1 style = \"color:red;text-align: center;font-size:50px\"> <b>\n",
    "    Lists\n",
    "</b> </h1>"
   ]
  },
  {
   "cell_type": "markdown",
   "metadata": {},
   "source": [
    "<a id='st1'></a>\n",
    "\n",
    "<h1 style = \"color:green;font-size:30px\" dir = \"ltr\"> <b>\n",
    "    Constructor:\n",
    "</b> </h1> "
   ]
  },
  {
   "cell_type": "markdown",
   "metadata": {},
   "source": [
    "Lists are used to store multiple items in a single variable.\n",
    "\n",
    "The list is changeable, meaning that we can change, add, and remove items in a list after it has been created.\n",
    "\n",
    "Since lists are indexed, lists can have items with the same value.\n",
    "\n",
    "Lists are created using square brackets:"
   ]
  },
  {
   "cell_type": "code",
   "execution_count": 20,
   "metadata": {},
   "outputs": [
    {
     "name": "stdout",
     "output_type": "stream",
     "text": [
      "9\n",
      "[1, 2, 3, 4]\n"
     ]
    }
   ],
   "source": [
    "this_list_1 = [0,1,2,3,4,5,\"abc\",True,False]\n",
    "this_list_2 = list((0,1,2,3,4,5,\"abc\",True,False))\n",
    "\n",
    "print(len(this_list_1))\n",
    "print(this_list_1[1:5])"
   ]
  },
  {
   "cell_type": "markdown",
   "metadata": {},
   "source": [
    "<a id='st1'></a>\n",
    "\n",
    "<h1 style = \"color:green;font-size:30px\" dir = \"ltr\"> <b>\n",
    "    Change list items:\n",
    "</b> </h1> "
   ]
  },
  {
   "cell_type": "code",
   "execution_count": 31,
   "metadata": {},
   "outputs": [
    {
     "name": "stdout",
     "output_type": "stream",
     "text": [
      "['apple', 'blackcurrant', 'watermelon', 'orange']\n",
      "['apple', 'banana', 'cherry']\n"
     ]
    }
   ],
   "source": [
    "thislist = [\"apple\", \"banana\", \"cherry\", \"orange\"]\n",
    "thislist[1:3] = [\"blackcurrant\", \"watermelon\"]\n",
    "print(thislist)\n",
    "\n",
    "thislist[1:4] = [\"banana\", \"cherry\"]\n",
    "print(thislist)"
   ]
  },
  {
   "cell_type": "markdown",
   "metadata": {},
   "source": [
    "add items to list:"
   ]
  },
  {
   "cell_type": "code",
   "execution_count": 33,
   "metadata": {},
   "outputs": [
    {
     "name": "stdout",
     "output_type": "stream",
     "text": [
      "['apple', 'banana', 'cherry', 'orange']\n",
      "['apple', 'banana', 'watermelon', 'cherry', 'orange']\n"
     ]
    }
   ],
   "source": [
    "thislist = [\"apple\", \"banana\", \"cherry\"]\n",
    "\n",
    "thislist.append(\"orange\")\n",
    "print(thislist)\n",
    "\n",
    "thislist.insert(2, \"watermelon\")\n",
    "print(thislist)"
   ]
  },
  {
   "cell_type": "markdown",
   "metadata": {},
   "source": [
    "There are several ways to join, or concatenate, two or more lists in Python."
   ]
  },
  {
   "cell_type": "code",
   "execution_count": 41,
   "metadata": {},
   "outputs": [
    {
     "name": "stdout",
     "output_type": "stream",
     "text": [
      "['a', 'b', 'c', 1, 2, 3]\n",
      "['a', 'b', 'c', 1, 2, 3]\n"
     ]
    }
   ],
   "source": [
    "list1 = [\"a\", \"b\", \"c\"]\n",
    "list2 = [1, 2, 3]\n",
    "list1.extend(list2)\n",
    "print(list1)\n",
    "\n",
    "list1 = [\"a\", \"b\", \"c\"]\n",
    "list2 = [1, 2, 3]\n",
    "list3 = list1 + list2\n",
    "print(list3)"
   ]
  },
  {
   "cell_type": "markdown",
   "metadata": {},
   "source": [
    "If there are more than one item with the specified value, the `remove()` method removes the first occurrence:"
   ]
  },
  {
   "cell_type": "code",
   "execution_count": null,
   "metadata": {},
   "outputs": [],
   "source": [
    "thislist = [\"apple\", \"banana\", \"cherry\", \"banana\", \"kiwi\"]\n",
    "thislist.remove(\"banana\")\n",
    "print(thislist)"
   ]
  },
  {
   "cell_type": "markdown",
   "metadata": {},
   "source": [
    "The `pop()` method removes the specified index.\n",
    "\n",
    "If you do not specify the index, the `pop()` method removes the last item"
   ]
  },
  {
   "cell_type": "code",
   "execution_count": 36,
   "metadata": {},
   "outputs": [
    {
     "name": "stdout",
     "output_type": "stream",
     "text": [
      "['apple', 'cherry', 'orange']\n",
      "['apple', 'cherry']\n"
     ]
    }
   ],
   "source": [
    "thislist = [\"apple\", \"banana\", \"cherry\", \"orange\"]\n",
    "thislist.pop(1)\n",
    "print(thislist)\n",
    "\n",
    "thislist.pop()\n",
    "print(thislist)"
   ]
  },
  {
   "cell_type": "markdown",
   "metadata": {},
   "source": [
    "The `del` keyword also removes the specified index:\n",
    "\n",
    "The `del` keyword can also delete the list completely."
   ]
  },
  {
   "cell_type": "code",
   "execution_count": 38,
   "metadata": {},
   "outputs": [
    {
     "name": "stdout",
     "output_type": "stream",
     "text": [
      "['banana', 'cherry']\n"
     ]
    }
   ],
   "source": [
    "thislist = [\"apple\", \"banana\", \"cherry\"]\n",
    "del thislist[0]\n",
    "print(thislist)\n",
    "\n",
    "del thislist"
   ]
  },
  {
   "cell_type": "markdown",
   "metadata": {},
   "source": [
    "The `clear()` method empties the list."
   ]
  },
  {
   "cell_type": "code",
   "execution_count": 37,
   "metadata": {},
   "outputs": [
    {
     "name": "stdout",
     "output_type": "stream",
     "text": [
      "[]\n"
     ]
    }
   ],
   "source": [
    "thislist = [\"apple\", \"banana\", \"cherry\"]\n",
    "thislist.clear()\n",
    "print(thislist)"
   ]
  },
  {
   "cell_type": "markdown",
   "metadata": {},
   "source": [
    "List objects have a `sort()` method that will sort the list alphanumerically, ascending, by default:"
   ]
  },
  {
   "cell_type": "code",
   "execution_count": 39,
   "metadata": {},
   "outputs": [
    {
     "name": "stdout",
     "output_type": "stream",
     "text": [
      "[23, 50, 65, 82, 100]\n",
      "[100, 82, 65, 50, 23]\n"
     ]
    }
   ],
   "source": [
    "thislist = [100, 50, 65, 82, 23]\n",
    "thislist.sort()\n",
    "print(thislist)\n",
    "\n",
    "thislist.sort(reverse = True)\n",
    "print(thislist)"
   ]
  },
  {
   "cell_type": "markdown",
   "metadata": {},
   "source": [
    "Make a copy of a list with the `copy()` method:"
   ]
  },
  {
   "cell_type": "code",
   "execution_count": 42,
   "metadata": {},
   "outputs": [
    {
     "name": "stdout",
     "output_type": "stream",
     "text": [
      "['apple', 'banana', 'cherry']\n",
      "[1, 'banana', 'cherry']\n"
     ]
    }
   ],
   "source": [
    "thislist = [\"apple\", \"banana\", \"cherry\"]\n",
    "mylist = thislist.copy()\n",
    "mylist[0] = 1\n",
    "\n",
    "print(thislist)\n",
    "print(mylist)"
   ]
  },
  {
   "cell_type": "markdown",
   "metadata": {},
   "source": [
    "Learn more about List Methods in [List Methods](https://www.w3schools.com/python/python_lists_methods.asp) chapter."
   ]
  },
  {
   "cell_type": "markdown",
   "metadata": {},
   "source": [
    "<a id='tuple'></a>\n",
    "\n",
    "<h1 style = \"color:red;text-align: center;font-size:50px\"> <b>\n",
    "    Tuple\n",
    "</b> </h1>"
   ]
  },
  {
   "cell_type": "markdown",
   "metadata": {},
   "source": [
    "<a id='st1'></a>\n",
    "\n",
    "<h1 style = \"color:green;font-size:30px\" dir = \"ltr\"> <b>\n",
    "    Constructor:\n",
    "</b> </h1> "
   ]
  },
  {
   "cell_type": "markdown",
   "metadata": {},
   "source": [
    "Tuples are used to store multiple items in a single variable.\n",
    "\n",
    "A tuple is a collection which is ordered and **unchangeable**.\n",
    "\n",
    "Since tuples are indexed, they can have items with the same value.\n",
    "\n",
    "Tuples are written with round brackets."
   ]
  },
  {
   "cell_type": "code",
   "execution_count": 45,
   "metadata": {},
   "outputs": [
    {
     "name": "stdout",
     "output_type": "stream",
     "text": [
      "('apple', 10, 'cherry', 'cherry', True)\n",
      "5\n"
     ]
    }
   ],
   "source": [
    "thistuple = (\"apple\", 10, \"cherry\", \"cherry\", True)\n",
    "thistuple = tuple((\"apple\", 10, \"cherry\", \"cherry\", True))\n",
    "print(thistuple)\n",
    "\n",
    "print(len(thistuple))"
   ]
  },
  {
   "cell_type": "markdown",
   "metadata": {},
   "source": [
    "To create a tuple with only one item, you have to add a comma after the item, otherwise Python will not recognize it as a tuple."
   ]
  },
  {
   "cell_type": "code",
   "execution_count": 44,
   "metadata": {},
   "outputs": [
    {
     "name": "stdout",
     "output_type": "stream",
     "text": [
      "<class 'tuple'>\n",
      "<class 'str'>\n"
     ]
    }
   ],
   "source": [
    "thistuple = (\"apple\",)\n",
    "print(type(thistuple))\n",
    "\n",
    "#NOT a tuple\n",
    "thistuple = (\"apple\")\n",
    "print(type(thistuple))"
   ]
  },
  {
   "cell_type": "markdown",
   "metadata": {},
   "source": [
    "<a id='st1'></a>\n",
    "\n",
    "<h1 style = \"color:green;font-size:30px\" dir = \"ltr\"> <b>\n",
    "    Change tuple items:\n",
    "</b> </h1> "
   ]
  },
  {
   "cell_type": "markdown",
   "metadata": {},
   "source": [
    "Once a tuple is created, you cannot change its values. Tuples are unchangeable, or immutable as it also is called.\n",
    "\n",
    "But there is a workaround. You can convert the tuple into a list, change the list, and convert the list back into a tuple."
   ]
  },
  {
   "cell_type": "code",
   "execution_count": 47,
   "metadata": {},
   "outputs": [
    {
     "name": "stdout",
     "output_type": "stream",
     "text": [
      "('apple', 'kiwi', 'cherry')\n"
     ]
    }
   ],
   "source": [
    "thistuple = (\"apple\", \"banana\", \"cherry\")\n",
    "y = list(thistuple)\n",
    "y[1] = \"kiwi\"\n",
    "thistuple = tuple(y)\n",
    "print(thistuple)"
   ]
  },
  {
   "cell_type": "markdown",
   "metadata": {},
   "source": [
    "You are allowed to add tuples to tuples, so if you want to add one item, (or many), create a new tuple with the item(s), and add it to the existing tuple."
   ]
  },
  {
   "cell_type": "code",
   "execution_count": 49,
   "metadata": {},
   "outputs": [
    {
     "name": "stdout",
     "output_type": "stream",
     "text": [
      "('apple', 'banana', 'cherry', 'orange')\n"
     ]
    }
   ],
   "source": [
    "thistuple = (\"apple\", \"banana\", \"cherry\")\n",
    "y = (\"orange\",)\n",
    "thistuple += y\n",
    "\n",
    "print(thistuple)"
   ]
  },
  {
   "cell_type": "markdown",
   "metadata": {},
   "source": [
    "When we create a tuple, we normally assign values to it. This is called \"packing\" a tuple\n",
    "\n",
    "But, in Python, we are also allowed to extract the values back into variables. This is called \"unpacking\""
   ]
  },
  {
   "cell_type": "code",
   "execution_count": null,
   "metadata": {},
   "outputs": [],
   "source": [
    "fruits = (\"apple\", \"banana\", \"cherry\")\n",
    "(green, yellow, red) = fruits\n",
    "print(green)\n",
    "print(yellow)\n",
    "print(red)\n",
    "\n",
    "print()\n",
    "fruits = (\"apple\", \"banana\", \"cherry\", \"strawberry\", \"raspberry\")\n",
    "(green, yellow, *red) = fruits\n",
    "print(red)\n",
    "\n",
    "print()\n",
    "(green, *tropic, red) = fruits\n",
    "print(green)\n",
    "print(tropic)\n",
    "print(red)"
   ]
  },
  {
   "cell_type": "markdown",
   "metadata": {},
   "source": [
    "Learn more about Tuple Methods in [Tuple Methods](hhttps://www.w3schools.com/python/python_tuples_methods.asp) chapter."
   ]
  },
  {
   "cell_type": "markdown",
   "metadata": {},
   "source": [
    "<a id='set'></a>\n",
    "\n",
    "<h1 style = \"color:red;text-align: center;font-size:50px\"> <b>\n",
    "    Set\n",
    "</b> </h1>"
   ]
  },
  {
   "cell_type": "markdown",
   "metadata": {},
   "source": [
    "<a id='st1'></a>\n",
    "\n",
    "<h1 style = \"color:green;font-size:30px\" dir = \"ltr\"> <b>\n",
    "    Constructor:\n",
    "</b> </h1> "
   ]
  },
  {
   "cell_type": "markdown",
   "metadata": {},
   "source": [
    "Sets are used to store multiple items in a single variable.\n",
    "\n",
    "A set is a collection which is **unordered**, **unchangeable**, and **unindexed**.\n",
    "\n",
    "Set items are unordered, unchangeable, and do not allow duplicate values.\n",
    "\n",
    "Set items can appear in a different order every time you use them, and cannot be referred to by index or key.\n",
    "\n",
    "Set items are unchangeable, meaning that we cannot change the items after the set has been created.\n",
    "\n",
    "Sets cannot have two items with the same value.\n",
    "\n",
    "The values True and 1 are considered the same value in sets, and are treated as duplicates.\n",
    "\n",
    "The values False and 0 are considered the same value in sets, and are treated as duplicates.\n",
    "\n",
    "Sets are written with curly brackets."
   ]
  },
  {
   "cell_type": "code",
   "execution_count": 54,
   "metadata": {},
   "outputs": [
    {
     "name": "stdout",
     "output_type": "stream",
     "text": [
      "{False, 'apple', True, 'banana', 'cherry'}\n",
      "5\n"
     ]
    }
   ],
   "source": [
    "thisset = {\"apple\", \"apple\", \"banana\", \"cherry\", False, True, 0, 1, 1}\n",
    "thisset = set((\"apple\", \"apple\", \"banana\", \"cherry\", False, True, 0, 1, 1))\n",
    "\n",
    "print(thisset)\n",
    "print(len(thisset))"
   ]
  },
  {
   "cell_type": "markdown",
   "metadata": {},
   "source": [
    "<a id='st1'></a>\n",
    "\n",
    "<h1 style = \"color:green;font-size:30px\" dir = \"ltr\"> <b>\n",
    "    Change set items:\n",
    "</b> </h1> "
   ]
  },
  {
   "cell_type": "markdown",
   "metadata": {},
   "source": [
    "Once a set is created, you cannot change its items, but you can add new items."
   ]
  },
  {
   "cell_type": "code",
   "execution_count": 60,
   "metadata": {},
   "outputs": [
    {
     "name": "stdout",
     "output_type": "stream",
     "text": [
      "{'apple', 'banana', 'cherry', 'orange'}\n"
     ]
    }
   ],
   "source": [
    "thisset = {\"apple\", \"banana\", \"cherry\"}\n",
    "thisset.add(\"orange\")\n",
    "\n",
    "print(thisset)"
   ]
  },
  {
   "cell_type": "markdown",
   "metadata": {},
   "source": [
    "To add items from another set into the current set, use the `update()` method.\n",
    "\n",
    "The object in the `update()` method does not have to be a set, it can be any iterable object (tuples, lists, dictionaries etc.)."
   ]
  },
  {
   "cell_type": "code",
   "execution_count": 61,
   "metadata": {},
   "outputs": [
    {
     "name": "stdout",
     "output_type": "stream",
     "text": [
      "{'apple', 'banana', 'cherry', 'kiwi', 'orange'}\n"
     ]
    }
   ],
   "source": [
    "thisset = {\"apple\", \"banana\", \"cherry\"}\n",
    "mylist = [\"kiwi\", \"orange\"]\n",
    "\n",
    "thisset.update(mylist)\n",
    "\n",
    "print(thisset)"
   ]
  },
  {
   "cell_type": "markdown",
   "metadata": {},
   "source": [
    "The `union()` method returns a new set with all items from sets.\n",
    "\n",
    "You can use the `|` operator instead of the `union()` method, and you will get the same result."
   ]
  },
  {
   "cell_type": "code",
   "execution_count": 66,
   "metadata": {},
   "outputs": [
    {
     "name": "stdout",
     "output_type": "stream",
     "text": [
      "{1, 2, 3, 'apple', 'c', 'cherry', 'a', 'John', 'Elena', 'b', 'bananas'}\n",
      "{1, 2, 3, 'apple', 'c', 'cherry', 'a', 'John', 'Elena', 'b', 'bananas'}\n"
     ]
    }
   ],
   "source": [
    "set1 = {\"a\", \"b\", \"c\"}\n",
    "set2 = {1, 2, 3}\n",
    "set3 = {\"John\", \"Elena\"}\n",
    "set4 = {\"apple\", \"bananas\", \"cherry\"}\n",
    "\n",
    "myset = set1.union(set2, set3, set4)\n",
    "print(myset)\n",
    "\n",
    "set1 = {\"a\", \"b\", \"c\"}\n",
    "set2 = {1, 2, 3}\n",
    "set3 = {\"John\", \"Elena\"}\n",
    "set4 = {\"apple\", \"bananas\", \"cherry\"}\n",
    "\n",
    "myset = set1 | set2 | set3 |set4\n",
    "print(myset)"
   ]
  },
  {
   "cell_type": "markdown",
   "metadata": {},
   "source": [
    "The `intersection()` method will return a new set, that only contains the items that are present in both sets.\n",
    "\n",
    "You can use the `&` operator instead of the `intersection()` method, and you will get the same result.\n",
    "\n",
    "The `intersection_update()` method will also keep ONLY the duplicates, but it will change the original set instead of returning a new set."
   ]
  },
  {
   "cell_type": "code",
   "execution_count": 71,
   "metadata": {},
   "outputs": [
    {
     "name": "stdout",
     "output_type": "stream",
     "text": [
      "{'apple'}\n",
      "{'apple'}\n",
      "{'apple'}\n"
     ]
    }
   ],
   "source": [
    "set1 = {\"apple\", \"banana\", \"cherry\"}\n",
    "set2 = {\"google\", \"microsoft\", \"apple\"}\n",
    "set3 = set1.intersection(set2)\n",
    "print(set3)\n",
    "\n",
    "set1 = {\"apple\", \"banana\", \"cherry\"}\n",
    "set2 = {\"google\", \"microsoft\", \"apple\"}\n",
    "set3 = set1 & set2\n",
    "print(set3)\n",
    "\n",
    "set1 = {\"apple\", \"banana\", \"cherry\"}\n",
    "set2 = {\"google\", \"microsoft\", \"apple\"}\n",
    "set1.intersection_update(set2)\n",
    "print(set1)"
   ]
  },
  {
   "cell_type": "markdown",
   "metadata": {},
   "source": [
    "The `difference()` method will return a new set that will contain only the items from the first set that are not present in the other set.\n",
    "\n",
    "You can use the `-` operator instead of the `difference()` method, and you will get the same result.\n",
    "\n",
    "The `difference_update()` method will also keep the items from the first set that are not in the other set, but it will change the original set instead of returning a new set."
   ]
  },
  {
   "cell_type": "code",
   "execution_count": 72,
   "metadata": {},
   "outputs": [
    {
     "name": "stdout",
     "output_type": "stream",
     "text": [
      "{'banana', 'cherry'}\n",
      "{'banana', 'cherry'}\n",
      "{'banana', 'cherry'}\n"
     ]
    }
   ],
   "source": [
    "set1 = {\"apple\", \"banana\", \"cherry\"}\n",
    "set2 = {\"google\", \"microsoft\", \"apple\"}\n",
    "set3 = set1.difference(set2)\n",
    "print(set3)\n",
    "\n",
    "set1 = {\"apple\", \"banana\", \"cherry\"}\n",
    "set2 = {\"google\", \"microsoft\", \"apple\"}\n",
    "set3 = set1 - set2\n",
    "print(set3)\n",
    "\n",
    "set1 = {\"apple\", \"banana\", \"cherry\"}\n",
    "set2 = {\"google\", \"microsoft\", \"apple\"}\n",
    "set1.difference_update(set2)\n",
    "print(set1)"
   ]
  },
  {
   "cell_type": "markdown",
   "metadata": {},
   "source": [
    "The `symmetric_difference()` method will keep only the elements that are NOT present in both sets.\n",
    "\n",
    "You can use the `^` operator instead of the `symmetric_difference()` method, and you will get the same result.\n",
    "\n",
    "The `symmetric_difference_update()` method will also keep all but the duplicates, but it will change the original set instead of returning a new set."
   ]
  },
  {
   "cell_type": "code",
   "execution_count": 73,
   "metadata": {},
   "outputs": [
    {
     "name": "stdout",
     "output_type": "stream",
     "text": [
      "{'banana', 'cherry', 'microsoft', 'google'}\n",
      "{'banana', 'cherry', 'microsoft', 'google'}\n",
      "{'banana', 'cherry', 'microsoft', 'google'}\n"
     ]
    }
   ],
   "source": [
    "set1 = {\"apple\", \"banana\", \"cherry\"}\n",
    "set2 = {\"google\", \"microsoft\", \"apple\"}\n",
    "set3 = set1.symmetric_difference(set2)\n",
    "print(set3)\n",
    "\n",
    "set1 = {\"apple\", \"banana\", \"cherry\"}\n",
    "set2 = {\"google\", \"microsoft\", \"apple\"}\n",
    "set3 = set1 ^ set2\n",
    "print(set3)\n",
    "\n",
    "set1 = {\"apple\", \"banana\", \"cherry\"}\n",
    "set2 = {\"google\", \"microsoft\", \"apple\"}\n",
    "set1.symmetric_difference_update(set2)\n",
    "print(set1)"
   ]
  },
  {
   "cell_type": "markdown",
   "metadata": {},
   "source": [
    "To remove an item in a set, use the `remove()`, or the `discard()` method.\n",
    "\n",
    "If the item to remove does not exist, `remove()` will raise an error.\n",
    "\n",
    "If the item to remove does not exist, `discard()` will NOT raise an error.\n",
    "\n",
    "You can also use the `pop()` method to remove an item, but this method will remove a random item, so you cannot be sure what item that gets removed.\n",
    "\n",
    "The return value of the `pop()` method is the removed item.\n",
    "\n",
    "The `clear()` method empties the set.\n",
    "\n",
    "The `del` keyword will delete the set completely"
   ]
  },
  {
   "cell_type": "code",
   "execution_count": 65,
   "metadata": {},
   "outputs": [
    {
     "name": "stdout",
     "output_type": "stream",
     "text": [
      "apple\n",
      "set()\n"
     ]
    }
   ],
   "source": [
    "thisset = {\"apple\", \"banana\", \"cherry\"}\n",
    "\n",
    "thisset.remove(\"banana\")\n",
    "thisset.discard(\"banana\")\n",
    "\n",
    "x = thisset.pop()\n",
    "print(x)\n",
    "\n",
    "thisset.clear()\n",
    "print(thisset)\n",
    "\n",
    "del thisset"
   ]
  },
  {
   "cell_type": "markdown",
   "metadata": {},
   "source": [
    "Learn more about Set Methods in [Set Methods](https://www.w3schools.com/python/python_sets_methods.asp) chapter."
   ]
  },
  {
   "cell_type": "markdown",
   "metadata": {},
   "source": [
    "<a id='dictionaries'></a>\n",
    "\n",
    "<h1 style = \"color:red;text-align: center;font-size:50px\"> <b>\n",
    "    Dictionaries\n",
    "</b> </h1>"
   ]
  },
  {
   "cell_type": "markdown",
   "metadata": {},
   "source": [
    "<a id='st1'></a>\n",
    "\n",
    "<h1 style = \"color:green;font-size:30px\" dir = \"ltr\"> <b>\n",
    "    Constructor:\n",
    "</b> </h1> "
   ]
  },
  {
   "cell_type": "markdown",
   "metadata": {},
   "source": [
    "Dictionaries are used to store data values in key:value pairs.\n",
    "\n",
    "A dictionary is a collection which is ordered, changeable and do not allow duplicates.\n",
    "\n",
    "When we say that dictionaries are ordered, it means that the items have a defined order, and that order will not change.\n",
    "\n",
    "Dictionaries are changeable, meaning that we can change, add or remove items after the dictionary has been created.\n",
    "\n",
    "Dictionaries cannot have two items with the same key.\n",
    "\n",
    "Dictionaries are written with curly brackets, and have keys and values."
   ]
  },
  {
   "cell_type": "code",
   "execution_count": 79,
   "metadata": {},
   "outputs": [
    {
     "name": "stdout",
     "output_type": "stream",
     "text": [
      "{'brand': 'Ford', 'model': 'Mustang', 'year': 1964}\n",
      "3\n"
     ]
    }
   ],
   "source": [
    "thisdict = {\n",
    "  \"brand\": \"Ford\",\n",
    "  \"model\": \"Mustang\",\n",
    "  \"year\": 1964\n",
    "}\n",
    "\n",
    "thisdict = dict(brand = \"Ford\", model = \"Mustang\", year = 1964)\n",
    "\n",
    "print(thisdict)\n",
    "print(len(thisdict))"
   ]
  },
  {
   "cell_type": "markdown",
   "metadata": {},
   "source": [
    "Make a copy of a dictionary with the `copy()` method.\n",
    "\n",
    "Another way to make a copy is to use the built-in function `dict()`."
   ]
  },
  {
   "cell_type": "code",
   "execution_count": 96,
   "metadata": {},
   "outputs": [
    {
     "name": "stdout",
     "output_type": "stream",
     "text": [
      "{'brand': 'Ford', 'model': 'Mustang', 'year': 1964}\n",
      "{'brand': 'Ford', 'model': 'Mustang', 'year': 1964}\n"
     ]
    }
   ],
   "source": [
    "thisdict = {\n",
    "  \"brand\": \"Ford\",\n",
    "  \"model\": \"Mustang\",\n",
    "  \"year\": 1964\n",
    "}\n",
    "mydict = thisdict.copy()\n",
    "print(mydict)\n",
    "\n",
    "mydict = dict(thisdict)\n",
    "print(mydict)"
   ]
  },
  {
   "cell_type": "code",
   "execution_count": 81,
   "metadata": {},
   "outputs": [
    {
     "name": "stdout",
     "output_type": "stream",
     "text": [
      "Ford\n",
      "Ford\n"
     ]
    }
   ],
   "source": [
    "print(thisdict[\"brand\"])\n",
    "print(thisdict.get(\"brand\"))"
   ]
  },
  {
   "cell_type": "markdown",
   "metadata": {},
   "source": [
    "The `keys()` method will return a list of all the keys in the dictionary.\n",
    "\n",
    "The `values()` method will return a list of all the values in the dictionary.\n",
    "\n",
    "The `items()` method will return each item in a dictionary, as tuples in a list."
   ]
  },
  {
   "cell_type": "code",
   "execution_count": 87,
   "metadata": {},
   "outputs": [
    {
     "name": "stdout",
     "output_type": "stream",
     "text": [
      "dict_keys(['brand', 'model', 'year', 'color'])\n",
      "dict_values(['Ford', 'Mustang', 1964, 'white'])\n",
      "dict_items([('brand', 'Ford'), ('model', 'Mustang'), ('year', 1964), ('color', 'white')])\n"
     ]
    }
   ],
   "source": [
    "x = thisdict.keys()\n",
    "print(x)\n",
    "\n",
    "y = thisdict.values()\n",
    "print(y)\n",
    "\n",
    "z = thisdict.items()\n",
    "print(z)"
   ]
  },
  {
   "cell_type": "markdown",
   "metadata": {},
   "source": [
    "Nested Dictionaries: A dictionary can contain dictionaries, this is called nested dictionaries."
   ]
  },
  {
   "cell_type": "code",
   "execution_count": 98,
   "metadata": {},
   "outputs": [
    {
     "name": "stdout",
     "output_type": "stream",
     "text": [
      "Tobias\n"
     ]
    }
   ],
   "source": [
    "# method 1\n",
    "myfamily = {\n",
    "  \"child1\" : {\n",
    "    \"name\" : \"Emil\",\n",
    "    \"year\" : 2004\n",
    "  },\n",
    "  \"child2\" : {\n",
    "    \"name\" : \"Tobias\",\n",
    "    \"year\" : 2007\n",
    "  },\n",
    "  \"child3\" : {\n",
    "    \"name\" : \"Linus\",\n",
    "    \"year\" : 2011\n",
    "  }\n",
    "}\n",
    "\n",
    "# method 2\n",
    "child1 = {\n",
    "  \"name\" : \"Emil\",\n",
    "  \"year\" : 2004\n",
    "}\n",
    "child2 = {\n",
    "  \"name\" : \"Tobias\",\n",
    "  \"year\" : 2007\n",
    "}\n",
    "child3 = {\n",
    "  \"name\" : \"Linus\",\n",
    "  \"year\" : 2011\n",
    "}\n",
    "\n",
    "myfamily = {\n",
    "  \"child1\" : child1,\n",
    "  \"child2\" : child2,\n",
    "  \"child3\" : child3\n",
    "}\n",
    "\n",
    "print(myfamily[\"child2\"][\"name\"])"
   ]
  },
  {
   "cell_type": "markdown",
   "metadata": {},
   "source": [
    "<a id='st1'></a>\n",
    "\n",
    "<h1 style = \"color:green;font-size:30px\" dir = \"ltr\"> <b>\n",
    "    Change dictionary items:\n",
    "</b> </h1> "
   ]
  },
  {
   "cell_type": "markdown",
   "metadata": {},
   "source": [
    "The `update()` method will update the dictionary with the items from a given argument. If the item does not exist, the item will be added."
   ]
  },
  {
   "cell_type": "code",
   "execution_count": 91,
   "metadata": {},
   "outputs": [
    {
     "name": "stdout",
     "output_type": "stream",
     "text": [
      "{'brand': 'Ford', 'model': 'Mustang', 'year': 1964}\n",
      "{'brand': 'Ford', 'model': 'Mustang', 'year': 1400, 'color': 'white'}\n",
      "{'brand': 'Ford', 'model': 'Mustang', 'year': 2020, 'color': 'white', 'status': 'good'}\n"
     ]
    }
   ],
   "source": [
    "thisdict = dict(brand = \"Ford\", model = \"Mustang\", year = 1964)\n",
    "print(thisdict)\n",
    "\n",
    "# method 1\n",
    "thisdict[\"year\"] = 1400\n",
    "thisdict[\"color\"] = \"white\"\n",
    "print(thisdict)\n",
    "\n",
    "# method 2\n",
    "thisdict.update({\"year\": 2020})\n",
    "thisdict.update({\"status\": \"good\"})\n",
    "print(thisdict)"
   ]
  },
  {
   "cell_type": "markdown",
   "metadata": {},
   "source": [
    "The `pop()` method removes the item with the specified key name.\n",
    "\n",
    "The `popitem()` method removes the last inserted item (in versions before 3.7, a random item is removed instead)\n",
    "\n",
    "The `del` keyword removes the item with the specified key name.\n",
    "\n",
    "The `del` keyword can also delete the dictionary completely\n",
    "\n",
    "The `clear()` method empties the dictionary."
   ]
  },
  {
   "cell_type": "code",
   "execution_count": 95,
   "metadata": {},
   "outputs": [
    {
     "name": "stdout",
     "output_type": "stream",
     "text": [
      "{'brand': 'Ford', 'year': 1964, 'color': 'red'}\n",
      "{'brand': 'Ford', 'year': 1964}\n",
      "{'year': 1964}\n",
      "{}\n"
     ]
    }
   ],
   "source": [
    "thisdict = {\n",
    "  \"brand\": \"Ford\",\n",
    "  \"model\": \"Mustang\",\n",
    "  \"year\": 1964,\n",
    "  \"color\": \"red\"\n",
    "}\n",
    "thisdict.pop(\"model\")\n",
    "print(thisdict)\n",
    "\n",
    "thisdict.popitem()\n",
    "print(thisdict)\n",
    "\n",
    "del thisdict[\"brand\"]\n",
    "print(thisdict)\n",
    "\n",
    "thisdict.clear()\n",
    "print(thisdict)\n",
    "\n",
    "del thisdict"
   ]
  },
  {
   "cell_type": "markdown",
   "metadata": {},
   "source": [
    "Learn more about Dictionary Methods in [Dictionary Methods](https://www.w3schools.com/python/python_dictionaries_methods.asp) chapter."
   ]
  },
  {
   "cell_type": "markdown",
   "metadata": {},
   "source": [
    "<a id='if'></a>\n",
    "\n",
    "<h1 style = \"color:red;text-align: center;font-size:50px\"> <b>\n",
    "    If...Else\n",
    "</b> </h1>"
   ]
  },
  {
   "cell_type": "markdown",
   "metadata": {},
   "source": [
    "<a id='st1'></a>\n",
    "\n",
    "<h1 style = \"color:green;font-size:30px\" dir = \"ltr\"> <b>\n",
    "    Constructor:\n",
    "</b> </h1> "
   ]
  },
  {
   "cell_type": "code",
   "execution_count": 101,
   "metadata": {},
   "outputs": [
    {
     "name": "stdout",
     "output_type": "stream",
     "text": [
      "a is greater than b\n"
     ]
    }
   ],
   "source": [
    "a = 200\n",
    "b = 33\n",
    "if b > a:\n",
    "    print(\"b is greater than a\")\n",
    "elif a == b:\n",
    "    print(\"a and b are equal\")\n",
    "else:\n",
    "    print(\"a is greater than b\")"
   ]
  },
  {
   "cell_type": "markdown",
   "metadata": {},
   "source": [
    "Short Hand If ... Else"
   ]
  },
  {
   "cell_type": "code",
   "execution_count": 102,
   "metadata": {},
   "outputs": [
    {
     "name": "stdout",
     "output_type": "stream",
     "text": [
      "a is greater than b\n",
      "A\n",
      "A\n"
     ]
    }
   ],
   "source": [
    "if a > b: print(\"a is greater than b\")\n",
    "\n",
    "print(\"A\") if a > b else print(\"B\")\n",
    "\n",
    "print(\"A\") if a > b else print(\"=\") if a == b else print(\"B\")"
   ]
  },
  {
   "cell_type": "markdown",
   "metadata": {},
   "source": [
    "`and` , `or` and `not` logical operators."
   ]
  },
  {
   "cell_type": "code",
   "execution_count": 105,
   "metadata": {},
   "outputs": [
    {
     "name": "stdout",
     "output_type": "stream",
     "text": [
      "Both conditions are True\n",
      "At least one of the conditions is True\n",
      "a is NOT greater than b\n"
     ]
    }
   ],
   "source": [
    "a = 200\n",
    "b = 33\n",
    "c = 500\n",
    "if a > b and c > a:\n",
    "    print(\"Both conditions are True\")\n",
    "\n",
    "if a > b or a > c:\n",
    "    print(\"At least one of the conditions is True\")\n",
    "\n",
    "if not a < b:\n",
    "    print(\"b is NOT greater than a\")"
   ]
  },
  {
   "cell_type": "markdown",
   "metadata": {},
   "source": [
    "Nested if: You can have `if` statements inside `if` statements, this is called nested if statements."
   ]
  },
  {
   "cell_type": "code",
   "execution_count": 106,
   "metadata": {},
   "outputs": [
    {
     "name": "stdout",
     "output_type": "stream",
     "text": [
      "Above ten,\n",
      "and also above 20!\n"
     ]
    }
   ],
   "source": [
    "x = 41\n",
    "\n",
    "if x > 10:\n",
    "    print(\"Above ten,\")\n",
    "    if x > 20:\n",
    "        print(\"and also above 20!\")\n",
    "    else:\n",
    "        print(\"but not above 20.\")"
   ]
  },
  {
   "cell_type": "markdown",
   "metadata": {},
   "source": [
    "The pass Statement: `if` statements cannot be empty, but if you for some reason have an `if` statement with no content, put in the `pass` statement to avoid getting an error."
   ]
  },
  {
   "cell_type": "code",
   "execution_count": 107,
   "metadata": {},
   "outputs": [],
   "source": [
    "a = 33\n",
    "b = 200\n",
    "\n",
    "if b > a:\n",
    "    pass"
   ]
  },
  {
   "cell_type": "markdown",
   "metadata": {},
   "source": [
    "<a id='loops'></a>\n",
    "\n",
    "<h1 style = \"color:red;text-align: center;font-size:50px\"> <b>\n",
    "    Loops\n",
    "</b> </h1>"
   ]
  },
  {
   "cell_type": "markdown",
   "metadata": {},
   "source": [
    "<a id='st1'></a>\n",
    "\n",
    "<h1 style = \"color:green;font-size:30px\" dir = \"ltr\"> <b>\n",
    "    While Loops:\n",
    "</b> </h1> "
   ]
  },
  {
   "cell_type": "markdown",
   "metadata": {},
   "source": [
    "With the `while` loop we can execute a set of statements as long as a condition is true.\n",
    "\n",
    "With the `break` statement we can stop the loop even if the while condition is true.\n",
    "\n",
    "With the `continue` statement we can stop the current iteration, and continue with the next.\n",
    "\n",
    "With the `else` statement we can run a block of code once when the condition no longer is true.\n",
    "\n",
    "The `else` block will NOT be executed if the loop is stopped by a `break` statement."
   ]
  },
  {
   "cell_type": "code",
   "execution_count": 7,
   "metadata": {},
   "outputs": [
    {
     "name": "stdout",
     "output_type": "stream",
     "text": [
      "1\n",
      "2\n",
      "5\n",
      "6\n"
     ]
    }
   ],
   "source": [
    "i = 0\n",
    "while i < 10:\n",
    "    i += 1\n",
    "    if i == 3 or i == 4:\n",
    "        continue\n",
    "    elif i == 7:\n",
    "        break\n",
    "    print(i)"
   ]
  },
  {
   "cell_type": "code",
   "execution_count": 8,
   "metadata": {},
   "outputs": [
    {
     "name": "stdout",
     "output_type": "stream",
     "text": [
      "1\n",
      "2\n",
      "3\n",
      "4\n",
      "5\n",
      "i is no longer less than 6\n"
     ]
    }
   ],
   "source": [
    "i = 1\n",
    "while i < 6:\n",
    "    print(i)\n",
    "    i += 1\n",
    "else:\n",
    "    print(\"i is no longer less than 6\")"
   ]
  },
  {
   "cell_type": "markdown",
   "metadata": {},
   "source": [
    "<a id='st1'></a>\n",
    "\n",
    "<h1 style = \"color:green;font-size:30px\" dir = \"ltr\"> <b>\n",
    "    For Loops:\n",
    "</b> </h1> "
   ]
  },
  {
   "cell_type": "markdown",
   "metadata": {},
   "source": [
    "A `for` loop is used for iterating over a sequence (that is either a list, a tuple, a dictionary, a set, or a string).\n",
    "\n",
    "With the `for` loop we can execute a set of statements, once for each item in a list, tuple, set etc.\n",
    "\n",
    "With the `break` statement we can stop the loop before it has looped through all the items.\n",
    "\n",
    "With the `continue` statement we can stop the current iteration of the loop, and continue with the next\n",
    "\n",
    "The `else` keyword in a for loop specifies a block of code to be executed when the loop is finished:\n",
    "\n",
    "The `else` block will NOT be executed if the loop is stopped by a `break` statement."
   ]
  },
  {
   "cell_type": "code",
   "execution_count": 9,
   "metadata": {},
   "outputs": [
    {
     "name": "stdout",
     "output_type": "stream",
     "text": [
      "apple\n",
      "cherry\n"
     ]
    }
   ],
   "source": [
    "fruits = [\"apple\", \"banana\", \"cherry\", \"orange\", \"strawberry\"]\n",
    "for x in fruits:\n",
    "    if x == \"banana\":\n",
    "        continue\n",
    "    elif x == \"orange\":\n",
    "        break\n",
    "    print(x)"
   ]
  },
  {
   "cell_type": "code",
   "execution_count": 10,
   "metadata": {},
   "outputs": [
    {
     "name": "stdout",
     "output_type": "stream",
     "text": [
      "apple\n",
      "banana\n",
      "cherry\n",
      "orange\n",
      "strawberry\n",
      "Finally finished!\n"
     ]
    }
   ],
   "source": [
    "for x in fruits:\n",
    "    print(x)\n",
    "else:\n",
    "  print(\"Finally finished!\")"
   ]
  },
  {
   "cell_type": "code",
   "execution_count": 72,
   "metadata": {},
   "outputs": [
    {
     "name": "stdout",
     "output_type": "stream",
     "text": [
      "key= brand and value= Ford\n",
      "key= model and value= Mustang\n",
      "key= year and value= 1964\n",
      "key= color and value= red\n"
     ]
    }
   ],
   "source": [
    "thisdict = {\n",
    "  \"brand\": \"Ford\",\n",
    "  \"model\": \"Mustang\",\n",
    "  \"year\": 1964,\n",
    "  \"color\": \"red\"\n",
    "}\n",
    "\n",
    "for key, value in thisdict.items():\n",
    "    print(f\"key= {key} and value= {value}\")"
   ]
  },
  {
   "cell_type": "markdown",
   "metadata": {},
   "source": [
    "To loop through a set of code a specified number of times, we can use the `range()` function.\n",
    "\n",
    "The `range()` function returns a sequence of numbers, starting from 0 by default, and increments by 1 (by default), and ends at a specified number.\n",
    "\n",
    "The `range()` function defaults to 0 as a starting value, however it is possible to specify the starting value by adding a parameter: `range(2, 6)`, which means values from 2 to 6 (but not including 6)\n",
    "\n",
    "The `range()` function defaults to increment the sequence by 1, however it is possible to specify the increment value by adding a third parameter: `range(1, 6, 2)`"
   ]
  },
  {
   "cell_type": "code",
   "execution_count": 15,
   "metadata": {},
   "outputs": [
    {
     "name": "stdout",
     "output_type": "stream",
     "text": [
      "0\n",
      "1\n",
      "2\n",
      "3\n"
     ]
    }
   ],
   "source": [
    "# range(4) is not the values of 0 to 4, but the values 0 to 3.\n",
    "for x in range(4):\n",
    "    print(x)"
   ]
  },
  {
   "cell_type": "code",
   "execution_count": 16,
   "metadata": {},
   "outputs": [
    {
     "name": "stdout",
     "output_type": "stream",
     "text": [
      "2\n",
      "3\n"
     ]
    }
   ],
   "source": [
    "for x in range(2, 4):\n",
    "    print(x)"
   ]
  },
  {
   "cell_type": "code",
   "execution_count": 17,
   "metadata": {},
   "outputs": [
    {
     "name": "stdout",
     "output_type": "stream",
     "text": [
      "1\n",
      "3\n",
      "5\n"
     ]
    }
   ],
   "source": [
    "for x in range(1, 6, 2):\n",
    "    print(x)"
   ]
  },
  {
   "cell_type": "markdown",
   "metadata": {},
   "source": [
    "The `enumerate()` function is a built-in function that allows you to iterate over a sequence (such as a list, tuple, or string) while keeping track of the index of the current item. It essentially \"enumerates\" the items, meaning that it returns both the index and the item itself in each iteration.\n",
    "\n",
    "Syntax:\n",
    "\n",
    "```python\n",
    "enumerate(iterable, start=0)\n",
    "```"
   ]
  },
  {
   "cell_type": "code",
   "execution_count": 66,
   "metadata": {},
   "outputs": [
    {
     "name": "stdout",
     "output_type": "stream",
     "text": [
      "object 0= apple\n",
      "object 1= banana\n",
      "object 2= cherry\n",
      "object 3= kiwi\n",
      "object 4= mango\n"
     ]
    }
   ],
   "source": [
    "fruits = [\"apple\", \"banana\", \"cherry\", \"kiwi\", \"mango\"]\n",
    "\n",
    "for i, object in enumerate(fruits):\n",
    "    print(f\"object {i}= {object}\")"
   ]
  },
  {
   "cell_type": "markdown",
   "metadata": {},
   "source": [
    "Nested Loops: A nested loop is a loop inside a loop."
   ]
  },
  {
   "cell_type": "code",
   "execution_count": 13,
   "metadata": {},
   "outputs": [
    {
     "name": "stdout",
     "output_type": "stream",
     "text": [
      "red apple\n",
      "red banana\n",
      "red cherry\n",
      "big apple\n",
      "big banana\n",
      "big cherry\n",
      "tasty apple\n",
      "tasty banana\n",
      "tasty cherry\n"
     ]
    }
   ],
   "source": [
    "adj = [\"red\", \"big\", \"tasty\"]\n",
    "fruits = [\"apple\", \"banana\", \"cherry\"]\n",
    "\n",
    "for x in adj:\n",
    "    for y in fruits:\n",
    "        print(x, y)"
   ]
  },
  {
   "cell_type": "markdown",
   "metadata": {},
   "source": [
    "`for` loops cannot be empty, but if you for some reason have a `for` loop with no content, put in the `pass` statement to avoid getting an error."
   ]
  },
  {
   "cell_type": "code",
   "execution_count": 14,
   "metadata": {},
   "outputs": [],
   "source": [
    "for x in {0, 1, 2}:\n",
    "    pass"
   ]
  },
  {
   "cell_type": "markdown",
   "metadata": {},
   "source": [
    "<a id='st1'></a>\n",
    "\n",
    "<h1 style = \"color:green;font-size:30px\" dir = \"ltr\"> <b>\n",
    "    List Comprehension:\n",
    "</b> </h1> "
   ]
  },
  {
   "cell_type": "markdown",
   "metadata": {},
   "source": [
    "List comprehension offers a shorter syntax when you want to create a new list based on the values of an existing list.\n",
    "\n",
    "The Syntax:\n",
    "\n",
    "```python\n",
    "newlist = [expression for item in iterable if condition == True]\n",
    "```"
   ]
  },
  {
   "cell_type": "code",
   "execution_count": 63,
   "metadata": {},
   "outputs": [
    {
     "name": "stdout",
     "output_type": "stream",
     "text": [
      "['apple', 'banana', 'mango']\n"
     ]
    }
   ],
   "source": [
    "fruits = [\"apple\", \"banana\", \"cherry\", \"kiwi\", \"mango\"]\n",
    "\n",
    "newlist = [x for x in fruits if \"a\" in x]\n",
    "\n",
    "print(newlist) "
   ]
  },
  {
   "cell_type": "code",
   "execution_count": 64,
   "metadata": {},
   "outputs": [
    {
     "name": "stdout",
     "output_type": "stream",
     "text": [
      "['APPLE', 'BANANA', 'CHERRY', 'KIWI', 'MANGO']\n"
     ]
    }
   ],
   "source": [
    "fruits = [\"apple\", \"banana\", \"cherry\", \"kiwi\", \"mango\"]\n",
    "\n",
    "newlist = [x.upper() for x in fruits]\n",
    "\n",
    "print(newlist)"
   ]
  },
  {
   "cell_type": "code",
   "execution_count": 65,
   "metadata": {},
   "outputs": [
    {
     "name": "stdout",
     "output_type": "stream",
     "text": [
      "['apple', 'orange', 'cherry', 'kiwi', 'mango']\n"
     ]
    }
   ],
   "source": [
    "fruits = [\"apple\", \"banana\", \"cherry\", \"kiwi\", \"mango\"]\n",
    "\n",
    "newlist = [x if x != \"banana\" else \"orange\" for x in fruits]\n",
    "\n",
    "print(newlist)\n"
   ]
  },
  {
   "cell_type": "markdown",
   "metadata": {},
   "source": [
    "<a id='st1'></a>\n",
    "\n",
    "<h1 style = \"color:green;font-size:30px\" dir = \"ltr\"> <b>\n",
    "    Dictionary Comprehension:\n",
    "</b> </h1> "
   ]
  },
  {
   "cell_type": "code",
   "execution_count": 70,
   "metadata": {},
   "outputs": [
    {
     "name": "stdout",
     "output_type": "stream",
     "text": [
      "{'apple': 'APPLE', 'banana': 'BANANA', 'cherry': 'CHERRY', 'kiwi': 'KIWI', 'mango': 'MANGO'}\n"
     ]
    }
   ],
   "source": [
    "fruits = [\"apple\", \"banana\", \"cherry\", \"kiwi\", \"mango\"]\n",
    "\n",
    "newdict = {x: x.upper() for x in fruits}\n",
    "\n",
    "print(newdict)"
   ]
  },
  {
   "cell_type": "markdown",
   "metadata": {},
   "source": [
    "<a id='functions'></a>\n",
    "\n",
    "<h1 style = \"color:red;text-align: center;font-size:50px\"> <b>\n",
    "    Functions\n",
    "</b> </h1>"
   ]
  },
  {
   "cell_type": "markdown",
   "metadata": {},
   "source": [
    "<a id='st1'></a>\n",
    "\n",
    "<h1 style = \"color:green;font-size:30px\" dir = \"ltr\"> <b>\n",
    "    Working with functions:\n",
    "</b> </h1> "
   ]
  },
  {
   "cell_type": "markdown",
   "metadata": {},
   "source": [
    "A function is a block of code which only runs when it is called.\n",
    "\n",
    "You can pass data, known as parameters, into a function.\n",
    "\n",
    "A function can return data as a result."
   ]
  },
  {
   "cell_type": "code",
   "execution_count": 19,
   "metadata": {},
   "outputs": [
    {
     "name": "stdout",
     "output_type": "stream",
     "text": [
      "I am mahdi and my age is 100\n"
     ]
    }
   ],
   "source": [
    "def my_function(name, age):\n",
    "    print(f\"I am {name} and my age is {age}\")\n",
    "\n",
    "my_function(\"mahdi\", 100)"
   ]
  },
  {
   "cell_type": "code",
   "execution_count": 27,
   "metadata": {},
   "outputs": [
    {
     "name": "stdout",
     "output_type": "stream",
     "text": [
      "apple\n",
      "banana\n",
      "cherry\n"
     ]
    }
   ],
   "source": [
    "def my_function(food):\n",
    "    for x in food:\n",
    "        print(x)\n",
    "\n",
    "fruits = [\"apple\", \"banana\", \"cherry\"]\n",
    "\n",
    "my_function(fruits)"
   ]
  },
  {
   "cell_type": "code",
   "execution_count": 21,
   "metadata": {},
   "outputs": [
    {
     "name": "stdout",
     "output_type": "stream",
     "text": [
      "volume= 400\n"
     ]
    }
   ],
   "source": [
    "def calculate_volume(length, width, height):\n",
    "    volume = length * width * height\n",
    "    return volume\n",
    "\n",
    "x = 10\n",
    "y = 5\n",
    "z = 8\n",
    "volume = calculate_volume(x, y, z)\n",
    "print(f\"volume= {volume}\")"
   ]
  },
  {
   "cell_type": "markdown",
   "metadata": {},
   "source": [
    "Keyword Arguments; You can also send arguments with the key = value syntax.\n",
    "\n",
    "This way the order of the arguments does not matter."
   ]
  },
  {
   "cell_type": "code",
   "execution_count": 23,
   "metadata": {},
   "outputs": [
    {
     "name": "stdout",
     "output_type": "stream",
     "text": [
      "The youngest child is Linus\n"
     ]
    }
   ],
   "source": [
    "def my_function(child3, child2, child1):\n",
    "    print(\"The youngest child is \" + child3)\n",
    "\n",
    "my_function(child1 = \"Emil\", child2 = \"Tobias\", child3 = \"Linus\")\n"
   ]
  },
  {
   "cell_type": "markdown",
   "metadata": {},
   "source": [
    "Default Parameter Value: If we call the function without argument, it uses the default value."
   ]
  },
  {
   "cell_type": "code",
   "execution_count": 26,
   "metadata": {},
   "outputs": [
    {
     "name": "stdout",
     "output_type": "stream",
     "text": [
      "I am from India\n",
      "I am from Iran\n",
      "I am from Brazil\n"
     ]
    }
   ],
   "source": [
    "def my_function(country = \"Iran\"):\n",
    "    print(\"I am from \" + country)\n",
    "\n",
    "my_function(\"India\")\n",
    "my_function()\n",
    "my_function(\"Brazil\")"
   ]
  },
  {
   "cell_type": "markdown",
   "metadata": {},
   "source": [
    "Arbitrary Arguments, *args: If you do not know how many arguments that will be passed into your function, add a `*` before the parameter name in the function definition. This way the function will receive a tuple of arguments, and can access the items accordingly.\n",
    "\n",
    "Arbitrary Keyword Arguments, **kwargs: If you do not know how many keyword arguments that will be passed into your function, add two asterisk: `**` before the parameter name in the function definition. This way the function will receive a dictionary of arguments, and can access the items accordingly"
   ]
  },
  {
   "cell_type": "code",
   "execution_count": 24,
   "metadata": {},
   "outputs": [
    {
     "name": "stdout",
     "output_type": "stream",
     "text": [
      "The youngest child is Linus\n"
     ]
    }
   ],
   "source": [
    "def my_function(*kids):\n",
    "    print(\"The youngest child is \" + kids[2])\n",
    "\n",
    "my_function(\"Emil\", \"Tobias\", \"Linus\")"
   ]
  },
  {
   "cell_type": "code",
   "execution_count": 25,
   "metadata": {},
   "outputs": [
    {
     "name": "stdout",
     "output_type": "stream",
     "text": [
      "His last name is Refsnes\n"
     ]
    }
   ],
   "source": [
    "def my_function(**kid):\n",
    "    print(\"His last name is \" + kid[\"lname\"])\n",
    "\n",
    "my_function(fname = \"Tobias\", lname = \"Refsnes\")"
   ]
  },
  {
   "cell_type": "markdown",
   "metadata": {},
   "source": [
    "he pass Statement: `function` definitions cannot be empty, but if you for some reason have a `function` definition with no content, put in the `pass` statement to avoid getting an error."
   ]
  },
  {
   "cell_type": "code",
   "execution_count": 28,
   "metadata": {},
   "outputs": [],
   "source": [
    "def myfunction():\n",
    "    pass"
   ]
  },
  {
   "cell_type": "markdown",
   "metadata": {},
   "source": [
    "You can specify that a function can have ONLY positional arguments, or ONLY keyword arguments.\n",
    "\n",
    "- **Keyword-Only Arguments**: To specify that a function can have only keyword arguments, add `*,` before the arguments. when adding the `*,` you will get an error if you try to send a positional argument.\n",
    "\n",
    "- **Positional-Only Arguments**: To specify that a function can have only positional arguments, add `, /` after the arguments. when adding the `, /` you will get an error if you try to send a keyword argument"
   ]
  },
  {
   "cell_type": "code",
   "execution_count": 30,
   "metadata": {},
   "outputs": [
    {
     "name": "stdout",
     "output_type": "stream",
     "text": [
      "3\n"
     ]
    }
   ],
   "source": [
    "def my_function(*, x):\n",
    "    print(x)\n",
    "\n",
    "my_function(x = 3)"
   ]
  },
  {
   "cell_type": "code",
   "execution_count": 29,
   "metadata": {},
   "outputs": [
    {
     "name": "stdout",
     "output_type": "stream",
     "text": [
      "3\n"
     ]
    }
   ],
   "source": [
    "def my_function(x, /):\n",
    "    print(x)\n",
    "\n",
    "my_function(3)"
   ]
  },
  {
   "cell_type": "code",
   "execution_count": 34,
   "metadata": {},
   "outputs": [
    {
     "name": "stdout",
     "output_type": "stream",
     "text": [
      "10\n"
     ]
    }
   ],
   "source": [
    "def my_function(a, b, /, *, c, d):\n",
    "    print(a + b + c + d)\n",
    "\n",
    "my_function(1, 2, c = 3, d = 4)"
   ]
  },
  {
   "cell_type": "markdown",
   "metadata": {},
   "source": [
    "<a id='st1'></a>\n",
    "\n",
    "<h1 style = \"color:green;font-size:30px\" dir = \"ltr\"> <b>\n",
    "    Recursion:\n",
    "</b> </h1> "
   ]
  },
  {
   "cell_type": "markdown",
   "metadata": {},
   "source": [
    "Recursion is a common mathematical and programming concept. It means that a function calls itself. This has the benefit of meaning that you can loop through data to reach a result.\n",
    "\n",
    "In this example, `recursion_function()` is a function that we have defined to call itself (\"recurse\"). We use the `k` variable as the data, which decrements (`-1`) every time we recurse. The recursion ends when the condition is not greater than 0 (i.e. when it is 0)."
   ]
  },
  {
   "cell_type": "code",
   "execution_count": 39,
   "metadata": {},
   "outputs": [
    {
     "name": "stdout",
     "output_type": "stream",
     "text": [
      "1\n",
      "3\n",
      "6\n",
      "10\n",
      "15\n"
     ]
    }
   ],
   "source": [
    "def recursion_function(k):\n",
    "    if(k > 0):\n",
    "        result = k + recursion_function(k - 1)\n",
    "        print(result)\n",
    "    else:\n",
    "        result = 0\n",
    "    return result\n",
    "\n",
    "result = recursion_function(5)\n"
   ]
  },
  {
   "cell_type": "code",
   "execution_count": 42,
   "metadata": {},
   "outputs": [
    {
     "name": "stdout",
     "output_type": "stream",
     "text": [
      "8\n"
     ]
    }
   ],
   "source": [
    "def fibonacci(a):\n",
    "    if (a < 1):\n",
    "        return 0\n",
    "    if (a == 1 or a == 2):\n",
    "        return 1\n",
    "    return fibonacci(a-1) + fibonacci(a-2)\n",
    "\n",
    "print(fibonacci(6))"
   ]
  },
  {
   "cell_type": "markdown",
   "metadata": {},
   "source": [
    "<a id='st1'></a>\n",
    "\n",
    "<h1 style = \"color:green;font-size:30px\" dir = \"ltr\"> <b>\n",
    "    Lambda:\n",
    "</b> </h1> "
   ]
  },
  {
   "cell_type": "markdown",
   "metadata": {},
   "source": [
    "A lambda function is a small anonymous function.\n",
    "\n",
    "A lambda function can take any number of arguments, but can only have one expression.\n",
    "\n",
    "Syntax:\n",
    "\n",
    "```python\n",
    "lambda arguments : expression\n",
    "```"
   ]
  },
  {
   "cell_type": "code",
   "execution_count": 43,
   "metadata": {},
   "outputs": [
    {
     "name": "stdout",
     "output_type": "stream",
     "text": [
      "30\n"
     ]
    }
   ],
   "source": [
    "x = lambda a, b : a * b\n",
    "print(x(5, 6))"
   ]
  },
  {
   "cell_type": "markdown",
   "metadata": {},
   "source": [
    "The power of lambda is better shown when you use them as an anonymous function inside another function.\n",
    "\n",
    "Say you have a function definition that takes one argument, and that argument will be multiplied with an unknown number."
   ]
  },
  {
   "cell_type": "code",
   "execution_count": 44,
   "metadata": {},
   "outputs": [
    {
     "name": "stdout",
     "output_type": "stream",
     "text": [
      "10\n",
      "15\n"
     ]
    }
   ],
   "source": [
    "def myfunc(n):\n",
    "  return lambda a : a * n\n",
    "\n",
    "mydoubler = myfunc(2)\n",
    "mytripler = myfunc(3)\n",
    "\n",
    "print(mydoubler(5))\n",
    "print(mytripler(5))"
   ]
  },
  {
   "cell_type": "markdown",
   "metadata": {},
   "source": [
    "<a id='st1'></a>\n",
    "\n",
    "<h1 style = \"color:green;font-size:30px\" dir = \"ltr\"> <b>\n",
    "    Map:\n",
    "</b> </h1> "
   ]
  },
  {
   "cell_type": "markdown",
   "metadata": {},
   "source": [
    "The `map()` function executes a specified function for each item in an iterable. The item is sent to the function as a parameter.\n",
    "\n"
   ]
  },
  {
   "cell_type": "code",
   "execution_count": 49,
   "metadata": {},
   "outputs": [
    {
     "name": "stdout",
     "output_type": "stream",
     "text": [
      "<class 'map'>\n",
      "[2, 6, 10, 12, 16]\n"
     ]
    }
   ],
   "source": [
    "def func(num):\n",
    "    return num * 2\n",
    "\n",
    "my_list = [1,3,5,6,8]\n",
    "x = map(func , my_list)\n",
    "\n",
    "print(type(x))\n",
    "print(list(x))"
   ]
  },
  {
   "cell_type": "code",
   "execution_count": 51,
   "metadata": {},
   "outputs": [
    {
     "name": "stdout",
     "output_type": "stream",
     "text": [
      "[2, 6, 10, 12, 16]\n"
     ]
    }
   ],
   "source": [
    "my_list = [1,3,5,6,8]\n",
    "x = map(lambda a: a*2 , my_list)\n",
    "print(list(x))"
   ]
  },
  {
   "cell_type": "code",
   "execution_count": 54,
   "metadata": {},
   "outputs": [
    {
     "name": "stdout",
     "output_type": "stream",
     "text": [
      "[-1, -9, -25, -36, -64]\n"
     ]
    }
   ],
   "source": [
    "my_list_1 = [1,3,5,6,8]\n",
    "my_list_2 = [-1,-3,-5,-6,-8]\n",
    "\n",
    "x = map(lambda a, b: a*b , my_list_1 , my_list_2)\n",
    "print(list(x))\n"
   ]
  },
  {
   "cell_type": "markdown",
   "metadata": {},
   "source": [
    "<a id='scope'></a>\n",
    "\n",
    "<h1 style = \"color:red;text-align: center;font-size:50px\"> <b>\n",
    "    Scope\n",
    "</b> </h1>"
   ]
  },
  {
   "cell_type": "markdown",
   "metadata": {},
   "source": [
    "<a id='st1'></a>\n",
    "\n",
    "<h1 style = \"color:green;font-size:30px\" dir = \"ltr\"> <b>\n",
    "    Local Scope:\n",
    "</b> </h1> "
   ]
  },
  {
   "cell_type": "markdown",
   "metadata": {},
   "source": [
    "A variable is only available from inside the region it is created. This is called scope.\n",
    "\n",
    "A variable created inside a function belongs to the local scope of that function, and can only be used inside that function."
   ]
  },
  {
   "cell_type": "code",
   "execution_count": 70,
   "metadata": {},
   "outputs": [
    {
     "name": "stdout",
     "output_type": "stream",
     "text": [
      "300\n"
     ]
    }
   ],
   "source": [
    "# The local variable can be accessed from a function within the function\n",
    "def myfunc():\n",
    "    x = 300\n",
    "    def myinnerfunc():\n",
    "        print(x)\n",
    "    myinnerfunc()\n",
    "\n",
    "myfunc()"
   ]
  },
  {
   "cell_type": "markdown",
   "metadata": {},
   "source": [
    "The `nonlocal` keyword is used to work with variables inside nested functions.\n",
    "\n",
    "The `nonlocal` keyword makes the variable belong to the outer function."
   ]
  },
  {
   "cell_type": "code",
   "execution_count": 74,
   "metadata": {},
   "outputs": [
    {
     "name": "stdout",
     "output_type": "stream",
     "text": [
      "hello\n"
     ]
    }
   ],
   "source": [
    "def myfunc1():\n",
    "    x = \"mahdi\"\n",
    "    def myfunc2():\n",
    "        nonlocal x\n",
    "        x = \"hello\"\n",
    "    myfunc2()\n",
    "    return x\n",
    "\n",
    "print(myfunc1())"
   ]
  },
  {
   "cell_type": "markdown",
   "metadata": {},
   "source": [
    "<a id='st1'></a>\n",
    "\n",
    "<h1 style = \"color:green;font-size:30px\" dir = \"ltr\"> <b>\n",
    "    Global Scope:\n",
    "</b> </h1> "
   ]
  },
  {
   "cell_type": "markdown",
   "metadata": {},
   "source": [
    "A variable created in the main body of the Python code is a global variable and belongs to the global scope.\n",
    "\n",
    "Global variables are available from within any scope, global and local."
   ]
  },
  {
   "cell_type": "code",
   "execution_count": 71,
   "metadata": {},
   "outputs": [
    {
     "name": "stdout",
     "output_type": "stream",
     "text": [
      "300\n",
      "300\n"
     ]
    }
   ],
   "source": [
    "x = 300\n",
    "\n",
    "def myfunc():\n",
    "    print(x)\n",
    "\n",
    "myfunc()\n",
    "\n",
    "print(x)"
   ]
  },
  {
   "cell_type": "markdown",
   "metadata": {},
   "source": [
    "If you operate with the same variable name inside and outside of a function, Python will treat them as two separate variables, one available in the global scope (outside the function) and one available in the local scope (inside the function)."
   ]
  },
  {
   "cell_type": "code",
   "execution_count": null,
   "metadata": {},
   "outputs": [],
   "source": [
    "# The function will print the local x, and then the code will print the global x\n",
    "x = 300\n",
    "\n",
    "def myfunc():\n",
    "    x = 200\n",
    "    print(x)\n",
    "\n",
    "myfunc()\n",
    "\n",
    "print(x)"
   ]
  },
  {
   "cell_type": "markdown",
   "metadata": {},
   "source": [
    "f you need to create a global variable, but are stuck in the local scope, you can use the `global` keyword.\n",
    "\n",
    "The `global` keyword makes the variable global.\n",
    "\n",
    "Also, use the `global` keyword if you want to make a change to a global variable inside a function."
   ]
  },
  {
   "cell_type": "code",
   "execution_count": 72,
   "metadata": {},
   "outputs": [
    {
     "name": "stdout",
     "output_type": "stream",
     "text": [
      "300\n"
     ]
    }
   ],
   "source": [
    "def myfunc():\n",
    "    global x\n",
    "    x = 300\n",
    "\n",
    "myfunc()\n",
    "\n",
    "print(x)"
   ]
  },
  {
   "cell_type": "code",
   "execution_count": 73,
   "metadata": {},
   "outputs": [
    {
     "name": "stdout",
     "output_type": "stream",
     "text": [
      "200\n"
     ]
    }
   ],
   "source": [
    "x = 300\n",
    "\n",
    "def myfunc():\n",
    "    global x\n",
    "    x = 200\n",
    "\n",
    "myfunc()\n",
    "\n",
    "print(x)"
   ]
  },
  {
   "cell_type": "markdown",
   "metadata": {},
   "source": [
    "<a id='try'></a>\n",
    "\n",
    "<h1 style = \"color:red;text-align: center;font-size:50px\"> <b>\n",
    "    Try\n",
    "</b> </h1>"
   ]
  },
  {
   "cell_type": "markdown",
   "metadata": {},
   "source": [
    "<a id='st1'></a>\n",
    "\n",
    "<h1 style = \"color:green;font-size:30px\" dir = \"ltr\"> <b>\n",
    "    Exception Handling:\n",
    "</b> </h1> "
   ]
  },
  {
   "cell_type": "markdown",
   "metadata": {},
   "source": [
    "The `try` block lets you test a block of code for errors.\n",
    "\n",
    "The `except` block lets you handle the error.\n",
    "\n",
    "The `else` block lets you execute code when there is no error.\n",
    "\n",
    "The `finally` block lets you execute code, regardless of the result of the try- and except blocks."
   ]
  },
  {
   "cell_type": "code",
   "execution_count": 86,
   "metadata": {},
   "outputs": [
    {
     "name": "stdout",
     "output_type": "stream",
     "text": [
      "Variable 'number' is not defined\n",
      "NameError or KeyError happened!\n"
     ]
    }
   ],
   "source": [
    "# he try block will generate an exception, because 'number' is not defined\n",
    "# You can define as many exception blocks as you want, e.g. if you want to execute a special block of code for a special kind of error\n",
    "\n",
    "try:\n",
    "    print(number)\n",
    "except NameError:\n",
    "    print(\"Variable 'number' is not defined\")\n",
    "except:\n",
    "    print(\"Something else went wrong\")\n",
    "\n",
    "\n",
    "a = {\"name\" : \"mahdi\", \"age\" : 100}\n",
    "try:\n",
    "    print(a[\"last_name\"])\n",
    "except (NameError , KeyError):\n",
    "    print(\"NameError or KeyError happened!\")"
   ]
  },
  {
   "cell_type": "code",
   "execution_count": 83,
   "metadata": {},
   "outputs": [
    {
     "name": "stdout",
     "output_type": "stream",
     "text": [
      "Hello\n",
      "Nothing went wrong\n"
     ]
    }
   ],
   "source": [
    "# You can use the else keyword to define a block of code to be executed if no errors were raised\n",
    "\n",
    "try:\n",
    "    print(\"Hello\")\n",
    "except:\n",
    "    print(\"Something went wrong\")\n",
    "else:\n",
    "    print(\"Nothing went wrong\")"
   ]
  },
  {
   "cell_type": "code",
   "execution_count": 76,
   "metadata": {},
   "outputs": [
    {
     "name": "stdout",
     "output_type": "stream",
     "text": [
      "Something went wrong\n",
      "The 'try except' is finished\n"
     ]
    }
   ],
   "source": [
    "# The finally block, if specified, will be executed regardless if the try block raises an error or not.\n",
    "\n",
    "try:\n",
    "    print(number)\n",
    "except:\n",
    "    print(\"Something went wrong\")\n",
    "finally:\n",
    "    print(\"The 'try except' is finished\")"
   ]
  },
  {
   "cell_type": "code",
   "execution_count": 78,
   "metadata": {},
   "outputs": [
    {
     "name": "stdout",
     "output_type": "stream",
     "text": [
      "Something went wrong when opening the file\n"
     ]
    }
   ],
   "source": [
    "# try to open and write to a file that is not writable\n",
    "\n",
    "try:\n",
    "    f = open(\"demofile.txt\")\n",
    "    try:\n",
    "        f.write(\"Hello World :)\")\n",
    "    except:\n",
    "        print(\"Something went wrong when writing to the file\")\n",
    "    finally:\n",
    "        f.close()\n",
    "except:\n",
    "    print(\"Something went wrong when opening the file\")"
   ]
  },
  {
   "cell_type": "markdown",
   "metadata": {},
   "source": [
    "<a id='st1'></a>\n",
    "\n",
    "<h1 style = \"color:green;font-size:30px\" dir = \"ltr\"> <b>\n",
    "    Raise an exception:\n",
    "</b> </h1> "
   ]
  },
  {
   "cell_type": "markdown",
   "metadata": {},
   "source": [
    "You can choose to throw an exception if a condition occurs.\n",
    "\n",
    "To throw (or raise) an exception, use the `raise` keyword."
   ]
  },
  {
   "cell_type": "code",
   "execution_count": 92,
   "metadata": {},
   "outputs": [
    {
     "name": "stdout",
     "output_type": "stream",
     "text": [
      "Caught an error: Sorry, no numbers below zero\n"
     ]
    }
   ],
   "source": [
    "x = -1\n",
    "\n",
    "try:\n",
    "    if x < 0:\n",
    "        raise Exception(\"Sorry, no numbers below zero\")\n",
    "    x *= 5\n",
    "except Exception as error:\n",
    "    print(f\"Caught an error: {error}\")\n"
   ]
  },
  {
   "cell_type": "code",
   "execution_count": 89,
   "metadata": {},
   "outputs": [
    {
     "name": "stdout",
     "output_type": "stream",
     "text": [
      "Caught an error: Only integers are allowed\n"
     ]
    }
   ],
   "source": [
    "x = \"hello\"\n",
    "\n",
    "try:\n",
    "    if not isinstance(x, int):\n",
    "        raise TypeError(\"Only integers are allowed\")\n",
    "    x *= 5\n",
    "except TypeError as error:\n",
    "    print(f\"Caught an error: {error}\")"
   ]
  },
  {
   "cell_type": "markdown",
   "metadata": {},
   "source": [
    "<a id='decorators'></a>\n",
    "\n",
    "<h1 style = \"color:red;text-align: center;font-size:50px\"> <b>\n",
    "    Decorators\n",
    "</b> </h1>"
   ]
  },
  {
   "cell_type": "markdown",
   "metadata": {},
   "source": [
    "<a id='st1'></a>\n",
    "\n",
    "<h1 style = \"color:green;font-size:30px\" dir = \"ltr\"> <b>\n",
    "    Meaning:\n",
    "</b> </h1> "
   ]
  },
  {
   "cell_type": "markdown",
   "metadata": {},
   "source": [
    "Decorators are a very powerful and useful tool in Python since it allows programmers to modify the behaviour of a function or class. Decorators allow us to wrap another function in order to extend the behaviour of the wrapped function, without permanently modifying it."
   ]
  },
  {
   "cell_type": "code",
   "execution_count": 4,
   "metadata": {},
   "outputs": [
    {
     "name": "stdout",
     "output_type": "stream",
     "text": [
      "HI, I AM CREATED BY A FUNCTION PASSED AS AN ARGUMENT.\n",
      "hi, i am created by a function passed as an argument.\n"
     ]
    }
   ],
   "source": [
    "# Python program to illustrate functions \n",
    "# can be passed as arguments to other functions \n",
    "def shout(text): \n",
    "    return text.upper() \n",
    "\n",
    "def whisper(text): \n",
    "    return text.lower() \n",
    "\n",
    "def greet(func): \n",
    "    # storing the function in a variable \n",
    "    greeting = func(\"\"\"Hi, I am created by a function passed as an argument.\"\"\") \n",
    "    print (greeting) \n",
    "\n",
    "greet(shout) \n",
    "greet(whisper)"
   ]
  },
  {
   "cell_type": "code",
   "execution_count": 3,
   "metadata": {},
   "outputs": [
    {
     "name": "stdout",
     "output_type": "stream",
     "text": [
      "25\n",
      "20\n"
     ]
    }
   ],
   "source": [
    "# Python program to illustrate functions \n",
    "# Functions can return another function \n",
    "\n",
    "def create_adder(x): \n",
    "    def adder(y): \n",
    "        return x+y \n",
    "\n",
    "    return adder \n",
    "\n",
    "add_15 = create_adder(15) \n",
    "\n",
    "add_10 = create_adder(10) \n",
    "\n",
    "print(add_15(10)) \n",
    "\n",
    "print(add_10(10)) "
   ]
  },
  {
   "cell_type": "markdown",
   "metadata": {},
   "source": [
    "<a id='st1'></a>\n",
    "\n",
    "<h1 style = \"color:green;font-size:30px\" dir = \"ltr\"> <b>\n",
    "    How to use:\n",
    "</b> </h1> "
   ]
  },
  {
   "cell_type": "markdown",
   "metadata": {},
   "source": [
    "In the above example, we have created a function inside of another function and then have returned the function created inside.\n",
    "The above two examples depict the important concepts that are needed to understand decorators. After going through them let us now dive deep into decorators.\n",
    "\n",
    "As stated above the decorators are used to modify the behaviour of function or class. In Decorators, functions are taken as the argument into another function and then called inside the wrapper function.\n",
    "\n",
    "Syntax for Decorator: \n",
    "```python\n",
    "@my_decorator\n",
    "def hello_decorator():\n",
    "    print(\"Hi\")\n",
    "\n",
    "'''Above code is equivalent to -\n",
    "\n",
    "def hello_decorator():\n",
    "    print(\"Hi\")\n",
    " \n",
    "hello_decorator = my_decorator(hello_decorator)''' \n",
    "```"
   ]
  },
  {
   "cell_type": "code",
   "execution_count": 5,
   "metadata": {},
   "outputs": [
    {
     "name": "stdout",
     "output_type": "stream",
     "text": [
      "Hello, this is before function execution\n",
      "This is inside the function !!\n",
      "This is after function execution\n"
     ]
    }
   ],
   "source": [
    "# defining a decorator\n",
    "def hello_decorator(func):\n",
    "\n",
    "    # inner1 is a Wrapper function in which the argument is called\n",
    "    # inner function can access the outer local functions like in this case \"func\"\n",
    "    def inner1():\n",
    "        print(\"Hello, this is before function execution\")\n",
    "\n",
    "        # calling the actual function now inside the wrapper function.\n",
    "        func()\n",
    "\n",
    "        print(\"This is after function execution\")\n",
    "        \n",
    "    return inner1\n",
    "\n",
    "\n",
    "# defining a function, to be called inside wrapper\n",
    "def function_to_be_used():\n",
    "    print(\"This is inside the function !!\")\n",
    "\n",
    "\n",
    "# passing 'function_to_be_used' inside the decorator to control its behaviour\n",
    "function_to_be_used = hello_decorator(function_to_be_used)\n",
    "\n",
    "\n",
    "# calling the function\n",
    "function_to_be_used()\n"
   ]
  },
  {
   "cell_type": "markdown",
   "metadata": {},
   "source": [
    "We can rewrite the above example in another way"
   ]
  },
  {
   "cell_type": "code",
   "execution_count": null,
   "metadata": {},
   "outputs": [],
   "source": [
    "def hello_decorator(func):\n",
    "\n",
    "\tdef inner():\n",
    "\t\tprint(\"Hello, this is before function execution\")\n",
    "\t\tfunc()\n",
    "\t\tprint(\"This is after function execution\")\n",
    "\t\t\n",
    "\treturn inner\n",
    "\n",
    "@hello_decorator\n",
    "def function_to_be_used():\n",
    "\tprint(\"This is inside the function !!\")\n",
    "\n",
    "\n",
    "function_to_be_used()"
   ]
  },
  {
   "cell_type": "markdown",
   "metadata": {},
   "source": [
    "Let’s jump to another example where we can easily find out the execution time of a function using a decorator."
   ]
  },
  {
   "cell_type": "code",
   "execution_count": 11,
   "metadata": {},
   "outputs": [
    {
     "name": "stdout",
     "output_type": "stream",
     "text": [
      "Total time taken in :  factorial 3.0011961460113525\n",
      "Answer= 120\n"
     ]
    }
   ],
   "source": [
    "# importing libraries\n",
    "import time\n",
    "import math\n",
    "\n",
    "# decorator to calculate duration taken by any function.\n",
    "def calculate_time(func):\n",
    "    \n",
    "    # added arguments inside the inner1, if function takes any arguments, can be added like this.\n",
    "    def inner1(*args, **kwargs):\n",
    "\n",
    "        # storing time before function execution\n",
    "        begin = time.time()\n",
    "        \n",
    "        returned_value = func(*args, **kwargs)\n",
    "\n",
    "        # storing time after function execution\n",
    "        end = time.time()\n",
    "        print(\"Total time taken in : \", func.__name__, end - begin)\n",
    "\n",
    "        return returned_value\n",
    "\n",
    "    return inner1\n",
    "\n",
    "\n",
    "\n",
    "# this can be added to any function present, in this case to calculate a factorial\n",
    "@calculate_time\n",
    "def factorial(num):\n",
    "\n",
    "    # sleep 2 seconds because it takes very less time so that you can see the actual difference\n",
    "    time.sleep(3)\n",
    "    return math.factorial(num)\n",
    "    \n",
    "\n",
    "# calling the function.\n",
    "returned_value= factorial(5)\n",
    "print(f\"Answer= {returned_value}\")"
   ]
  },
  {
   "cell_type": "markdown",
   "metadata": {},
   "source": [
    "<a id='st1'></a>\n",
    "\n",
    "<h1 style = \"color:green;font-size:30px\" dir = \"ltr\"> <b>\n",
    "    Chaining Decorators:\n",
    "</b> </h1> "
   ]
  },
  {
   "cell_type": "markdown",
   "metadata": {},
   "source": [
    "In simpler terms chaining decorators means decorating a function with multiple decorators."
   ]
  },
  {
   "cell_type": "code",
   "execution_count": 12,
   "metadata": {},
   "outputs": [
    {
     "name": "stdout",
     "output_type": "stream",
     "text": [
      "400\n",
      "200\n"
     ]
    }
   ],
   "source": [
    "def decor1(func): \n",
    "    def inner(): \n",
    "        x = func() \n",
    "        return x * x \n",
    "    return inner \n",
    "\n",
    "def decor(func): \n",
    "    def inner(): \n",
    "        x = func() \n",
    "        return 2 * x \n",
    "    return inner \n",
    "\n",
    "@decor1\n",
    "@decor\n",
    "def num(): \n",
    "    return 10\n",
    "\n",
    "@decor\n",
    "@decor1\n",
    "def num2():\n",
    "    return 10\n",
    "  \n",
    "print(num()) \n",
    "print(num2())"
   ]
  },
  {
   "cell_type": "markdown",
   "metadata": {},
   "source": [
    "<a id='class'></a>\n",
    "\n",
    "<h1 style = \"color:red;text-align: center;font-size:50px\"> <b>\n",
    "    Class\n",
    "</b> </h1>"
   ]
  },
  {
   "cell_type": "markdown",
   "metadata": {},
   "source": [
    "<a id='st1'></a>\n",
    "\n",
    "<h1 style = \"color:green;font-size:30px\" dir = \"ltr\"> <b>\n",
    "    Classes/Objects:\n",
    "</b> </h1> "
   ]
  },
  {
   "cell_type": "markdown",
   "metadata": {},
   "source": [
    "Python is an object oriented programming language.\n",
    "\n",
    "Almost everything in Python is an object, with its properties and methods.\n",
    "\n",
    "To create a class, use the keyword `class`.\n",
    "\n",
    "All classes have a function called `__init__()`, which is always executed when the class is being initiated.\n",
    "\n",
    "The `__str__()` function controls what should be returned when the class object is represented as a string. If the `__str__()` function is not set, the string representation of the object is returned.\n",
    "\n",
    "Objects can also contain methods. Methods in objects are functions that belong to the object.\n",
    "\n",
    "The self Parameter: The `self` parameter is a reference to the current instance of the class, and is used to access variables that belongs to the class. It does not have to be named `self` , you can call it whatever you like, but it has to be the first parameter of any function in the class."
   ]
  },
  {
   "cell_type": "code",
   "execution_count": 102,
   "metadata": {},
   "outputs": [
    {
     "name": "stdout",
     "output_type": "stream",
     "text": [
      "John 36\n",
      "John 40\n",
      "John(40)\n",
      "<class '__main__.Person'>\n",
      "my name is John and my age is 40\n"
     ]
    }
   ],
   "source": [
    "\n",
    "class Person:\n",
    "    def __init__(self, name, age):\n",
    "        self.name = name\n",
    "        self.age = age\n",
    "\n",
    "    def __str__(self):\n",
    "        return f\"{self.name}({self.age})\"\n",
    "    \n",
    "    def introduce_your_self(self):\n",
    "        print(f\"my name is {self.name} and my age is {self.age}\")\n",
    "\n",
    "p1 = Person(\"John\", 36)\n",
    "\n",
    "print(p1.name, p1.age)\n",
    "\n",
    "p1.age = 40\n",
    "print(p1.name, p1.age)\n",
    "\n",
    "print(p1)\n",
    "print(type(p1))\n",
    "p1.introduce_your_self()"
   ]
  },
  {
   "cell_type": "markdown",
   "metadata": {},
   "source": [
    "You can delete properties on objects by using the `del` keyword.\n",
    "\n",
    "You can delete objects by using the `del` keyword"
   ]
  },
  {
   "cell_type": "code",
   "execution_count": 103,
   "metadata": {},
   "outputs": [],
   "source": [
    "del p1.age\n",
    "\n",
    "del p1"
   ]
  },
  {
   "cell_type": "markdown",
   "metadata": {},
   "source": [
    "The pass Statement: `class` definitions cannot be empty, but if you for some reason have a `class` definition with no content, put in the `pass` statement to avoid getting an error."
   ]
  },
  {
   "cell_type": "code",
   "execution_count": null,
   "metadata": {},
   "outputs": [],
   "source": [
    "class Animal:\n",
    "    pass"
   ]
  },
  {
   "cell_type": "markdown",
   "metadata": {},
   "source": [
    "<a id='st1'></a>\n",
    "\n",
    "<h1 style = \"color:green;font-size:30px\" dir = \"ltr\"> <b>\n",
    "    Inheritance:\n",
    "</b> </h1> "
   ]
  },
  {
   "cell_type": "markdown",
   "metadata": {},
   "source": [
    "nheritance allows us to define a class that inherits all the methods and properties from another class.\n",
    "\n",
    "Parent class is the class being inherited from, also called base class.\n",
    "\n",
    "Child class is the class that inherits from another class, also called derived class."
   ]
  },
  {
   "cell_type": "code",
   "execution_count": 107,
   "metadata": {},
   "outputs": [
    {
     "name": "stdout",
     "output_type": "stream",
     "text": [
      "my name is mahdi and my age is 100\n",
      "Welcome mahdi to the class of 1999\n"
     ]
    }
   ],
   "source": [
    "class Person:\n",
    "    def __init__(self, name, age):\n",
    "        self.name = name\n",
    "        self.age = age\n",
    "\n",
    "    def __str__(self):\n",
    "        return f\"{self.name}({self.age})\"\n",
    "    \n",
    "    def introduce_your_self(self):\n",
    "        print(f\"my name is {self.name} and my age is {self.age}\")\n",
    "\n",
    "\n",
    "# When you add the __init__() function, the child class will no longer inherit the parent's __init__() function.\n",
    "# The child's __init__() function overrides the inheritance of the parent's __init__() function.\n",
    "# To keep the inheritance of the parent's __init__() function, add a call to the parent's __init__() functio.\n",
    "\n",
    "class Student(Person):\n",
    "    def __init__(self, name, age, year):\n",
    "        Person.__init__(self, name, age)\n",
    "        self.graduationyear = year\n",
    "\n",
    "    def welcome(self):\n",
    "        print(\"Welcome\", self.name, \"to the class of\", self.graduationyear)\n",
    "\n",
    "mahdi = Student(\"mahdi\", 100, 1999)\n",
    "mahdi.introduce_your_self()\n",
    "mahdi.welcome()"
   ]
  },
  {
   "cell_type": "markdown",
   "metadata": {},
   "source": [
    "Python also has a `super()` function that will make the child class inherit all the methods and properties from its parent.\n",
    "\n",
    "y using the `super()` function, you do not have to use the name of the parent element, it will automatically inherit the methods and properties from its parent."
   ]
  },
  {
   "cell_type": "code",
   "execution_count": 109,
   "metadata": {},
   "outputs": [
    {
     "name": "stdout",
     "output_type": "stream",
     "text": [
      "my name is Babak and my age is 46\n"
     ]
    }
   ],
   "source": [
    "class Teacher(Person):\n",
    "    def __init__(self, name, age, course):\n",
    "        super().__init__(name, age)\n",
    "        self.my_course = course\n",
    "\n",
    "    def teach_students(self):\n",
    "        pass\n",
    "\n",
    "my_teacher = Teacher(\"Babak\", 46, \"Python\")\n",
    "my_teacher.introduce_your_self()"
   ]
  },
  {
   "cell_type": "markdown",
   "metadata": {},
   "source": [
    "<a id='st1'></a>\n",
    "\n",
    "<h1 style = \"color:green;font-size:30px\" dir = \"ltr\"> <b>\n",
    "    Encapsulation:\n",
    "</b> </h1> "
   ]
  },
  {
   "cell_type": "markdown",
   "metadata": {},
   "source": [
    "Encapsulation is one of the fundamental concepts in object-oriented programming (OOP). It describes the idea of wrapping data and the methods that work on data within one unit. This puts restrictions on accessing variables and methods directly and can prevent the accidental modification of data. To prevent accidental change, an object’s variable can only be changed by an object’s method. Those types of variables are known as private variables.\n",
    "\n",
    "A class is an example of encapsulation as it encapsulates all the data that is member functions, variables, etc. The goal of information hiding is to ensure that an object’s state is always valid by controlling access to attributes that are hidden from the outside world.\n",
    "\n",
    "- **Protected members**: Protected members (in C++ and JAVA) are those members of the class that cannot be accessed outside the class but can be accessed from within the class and its subclasses. To accomplish this in Python, just follow the convention by prefixing the name of the member by a single underscore “_”.\n",
    "\n",
    "    Although the protected variable can be accessed out of the class as well as in the derived class (modified too in derived class), it is customary(convention not a rule) to not access the protected out the class body.\n",
    "\n",
    "- **Private members**: Private members are similar to protected members, the difference is that the class members declared private should neither be accessed outside the class nor by any base class. In Python, there is no existence of Private instance variables that cannot be accessed except inside a class.\n",
    "\n",
    "    However, to define a private member prefix the member name with double underscore “__”."
   ]
  },
  {
   "cell_type": "markdown",
   "metadata": {},
   "source": [
    "Underscore usage in naming variable"
   ]
  },
  {
   "cell_type": "code",
   "execution_count": 117,
   "metadata": {},
   "outputs": [],
   "source": [
    "# _                 : not important name\n",
    "# for_              : for reserved names\n",
    "# __init__          : dunder method or magic method\n",
    "# _name = \"ali\"     : protected\n",
    "# __name = \"ali\"    : private"
   ]
  },
  {
   "cell_type": "code",
   "execution_count": 118,
   "metadata": {},
   "outputs": [
    {
     "name": "stdout",
     "output_type": "stream",
     "text": [
      "72\n",
      "private method can not use out of class\n"
     ]
    }
   ],
   "source": [
    "class Person:\n",
    "    def __init__(self):\n",
    "        self.a = 500     #public\n",
    "        self._b = 72     #protected\n",
    "        self.__c = 8     #private\n",
    "\n",
    "class student(Person):\n",
    "    def __init__(self):\n",
    "        super().__init__()\n",
    "        self.a = 400     #public\n",
    "        self._b = 80     #protected\n",
    "\n",
    "p1 = Person()\n",
    "p1.a = 600               #public\n",
    "\n",
    "try:\n",
    "    print(p1._b)\n",
    "except AttributeError:\n",
    "    print(\"protected method can not use out of parent and child classes\")\n",
    "\n",
    "try:\n",
    "    print(p1.__c)\n",
    "except AttributeError:\n",
    "    print(\"private method can not use out of class\")\n",
    "\n"
   ]
  },
  {
   "cell_type": "markdown",
   "metadata": {},
   "source": [
    "<a id='st1'></a>\n",
    "\n",
    "<h1 style = \"color:green;font-size:30px\" dir = \"ltr\"> <b>\n",
    "    Polymorphism:\n",
    "</b> </h1> "
   ]
  },
  {
   "cell_type": "markdown",
   "metadata": {},
   "source": [
    "The word \"polymorphism\" means \"many forms\", and in programming it refers to methods/functions/operators with the same name that can be executed on many objects or classes.\n",
    "\n",
    "An example of a Python function that can be used on different objects is the `len()` function."
   ]
  },
  {
   "cell_type": "code",
   "execution_count": 111,
   "metadata": {},
   "outputs": [
    {
     "name": "stdout",
     "output_type": "stream",
     "text": [
      "12\n",
      "5\n",
      "4\n",
      "3\n"
     ]
    }
   ],
   "source": [
    "my_str = \"Hello World!\"\n",
    "my_list = [0, 1, 2, 3, 4]\n",
    "mytuple = (\"apple\", \"banana\", \"cherry\", \"orange\")\n",
    "thisdict = {\"brand\": \"Ford\", \"model\": \"Mustang\", \"year\": 1964}\n",
    "\n",
    "print(len(my_str))\n",
    "print(len(my_list))\n",
    "print(len(mytuple))\n",
    "print(len(thisdict))"
   ]
  },
  {
   "cell_type": "markdown",
   "metadata": {},
   "source": [
    "Polymorphism is often used in Class methods, where we can have multiple classes with the same method name.\n",
    "\n",
    "For example, say we have three classes: `Car`, `Boat`, and `Plane`, and they all have a method called `move()`."
   ]
  },
  {
   "cell_type": "code",
   "execution_count": 112,
   "metadata": {},
   "outputs": [
    {
     "name": "stdout",
     "output_type": "stream",
     "text": [
      "Drive!\n",
      "Sail!\n",
      "Fly!\n"
     ]
    }
   ],
   "source": [
    "class Car:\n",
    "    def __init__(self, brand, model):\n",
    "        self.brand = brand\n",
    "        self.model = model\n",
    "\n",
    "    def move(self):\n",
    "        print(\"Drive!\")\n",
    "\n",
    "class Boat:\n",
    "    def __init__(self, brand, model):\n",
    "        self.brand = brand\n",
    "        self.model = model\n",
    "\n",
    "    def move(self):\n",
    "        print(\"Sail!\")\n",
    "\n",
    "class Plane:\n",
    "    def __init__(self, brand, model):\n",
    "        self.brand = brand\n",
    "        self.model = model\n",
    "\n",
    "    def move(self):\n",
    "        print(\"Fly!\")\n",
    "\n",
    "car1 = Car(\"Ford\", \"Mustang\")       #Create a Car class\n",
    "boat1 = Boat(\"Ibiza\", \"Touring 20\") #Create a Boat class\n",
    "plane1 = Plane(\"Boeing\", \"747\")     #Create a Plane class\n",
    "\n",
    "for x in (car1, boat1, plane1):\n",
    "    x.move()"
   ]
  },
  {
   "cell_type": "markdown",
   "metadata": {},
   "source": [
    "Inheritance Class Polymorphism: we can use polymorphism in classes with child classes with the same name too.\n",
    "\n",
    "Child classes inherits the properties and methods from the parent class.\n",
    "\n",
    "In the example above you can see that the `Car` class is empty, but it inherits `brand`, `model`, and `move()` from `Vehicle`.\n",
    "\n",
    "The `Boat` and `Plane` classes also inherit `brand`, `model`, and `move()` from `Vehicle`, but they both override the `move()` method.\n",
    "\n",
    "Because of polymorphism we can execute the same method for all classes.\n",
    "\n"
   ]
  },
  {
   "cell_type": "code",
   "execution_count": 116,
   "metadata": {},
   "outputs": [
    {
     "name": "stdout",
     "output_type": "stream",
     "text": [
      "Ford\n",
      "Mustang\n",
      "Move!\n",
      "\n",
      "Ibiza\n",
      "Touring 20\n",
      "Sail!\n",
      "\n",
      "Boeing\n",
      "747\n",
      "Fly!\n",
      "\n"
     ]
    }
   ],
   "source": [
    "class Vehicle:\n",
    "    def __init__(self, brand, model):\n",
    "        self.brand = brand\n",
    "        self.model = model\n",
    "\n",
    "    def move(self):\n",
    "        print(\"Move!\")\n",
    "\n",
    "class Car(Vehicle):\n",
    "    pass\n",
    "\n",
    "class Boat(Vehicle):\n",
    "    def move(self):\n",
    "        print(\"Sail!\")\n",
    "\n",
    "class Plane(Vehicle):\n",
    "    def move(self):\n",
    "        print(\"Fly!\")\n",
    "\n",
    "car1 = Car(\"Ford\", \"Mustang\") #Create a Car object\n",
    "boat1 = Boat(\"Ibiza\", \"Touring 20\") #Create a Boat object\n",
    "plane1 = Plane(\"Boeing\", \"747\") #Create a Plane object\n",
    "\n",
    "for x in (car1, boat1, plane1):\n",
    "    print(x.brand)\n",
    "    print(x.model)\n",
    "    x.move()\n",
    "    print()"
   ]
  },
  {
   "cell_type": "markdown",
   "metadata": {},
   "source": [
    "<a id='st1'></a>\n",
    "\n",
    "<h1 style = \"color:green;font-size:30px\" dir = \"ltr\"> <b>\n",
    "    Getter and Setter:\n",
    "</b> </h1> "
   ]
  },
  {
   "cell_type": "markdown",
   "metadata": {},
   "source": [
    "In Python, getters and setters are not the same as those in other object-oriented programming languages. Basically, the main purpose of using getters and setters in object-oriented programs is to ensure data encapsulation. Private variables in python are not actually hidden fields like in other object oriented languages. Getters and Setters in python are often used when:\n",
    "\n",
    "- We use getters & setters to add validation logic around getting and setting a value.\n",
    "\n",
    "- To avoid direct access of a class field i.e. private variables cannot be accessed directly or modified by external user."
   ]
  },
  {
   "cell_type": "markdown",
   "metadata": {},
   "source": [
    "To achieve getters & setters property, if we define normal get() and set() methods it will not reflect any special implementation."
   ]
  },
  {
   "cell_type": "code",
   "execution_count": 13,
   "metadata": {},
   "outputs": [
    {
     "name": "stdout",
     "output_type": "stream",
     "text": [
      "100\n",
      "36\n"
     ]
    }
   ],
   "source": [
    "class Person:\n",
    "    def __init__(self):\n",
    "        self.name = \"mahdi\"            #public\n",
    "        self._last_name = \"imani\"      #protected\n",
    "        self.__age = 100               #private\n",
    "\n",
    "    def get_age(self):\n",
    "        return self.__age\n",
    "\n",
    "    def set_age(self, age):\n",
    "        if(age < 18):\n",
    "            raise ValueError(\"Sorry your age is below eligibility criteria\")\n",
    "        self.__age = age\n",
    "\n",
    "p1 = Person()\n",
    "print(p1.get_age())\n",
    "\n",
    "p1.set_age(36)\n",
    "print(p1.get_age())"
   ]
  },
  {
   "cell_type": "markdown",
   "metadata": {},
   "source": [
    "Using property() function to achieve getters and setters behaviour:\n",
    "\n",
    "In Python `property()` is a built-in function that creates and returns a property object. A property object has three methods, `getter()`, `setter()`, and `delete()`. `property()` function in Python has four arguments property(fget, fset, fdel, doc), fget is a function for retrieving an attribute value. fset is a function for setting an attribute value. fdel is a function for deleting an attribute value."
   ]
  },
  {
   "cell_type": "code",
   "execution_count": 14,
   "metadata": {},
   "outputs": [
    {
     "name": "stdout",
     "output_type": "stream",
     "text": [
      "100\n",
      "36\n"
     ]
    }
   ],
   "source": [
    "class Person:\n",
    "    def __init__(self):\n",
    "        self.name = \"mahdi\"             #public\n",
    "        self._last_name = \"imani\"       #protected\n",
    "        self.__age = 100                #private\n",
    "\n",
    "    def get_age(self):\n",
    "        return self.__age\n",
    "\n",
    "    def set_age(self, age):\n",
    "        if(age < 18):\n",
    "            raise ValueError(\"Sorry your age is below eligibility criteria\")\n",
    "        self.__age = age\n",
    "\n",
    "    def del_age(self):\n",
    "        del self.__age\n",
    "\n",
    "    age = property(get_age, set_age, del_age)\n",
    "\n",
    "p1 = Person()\n",
    "print(p1.age)\n",
    "p1.age = 36\n",
    "print(p1.age)\n",
    "del p1.age"
   ]
  },
  {
   "cell_type": "markdown",
   "metadata": {},
   "source": [
    "Using @property decorators to achieve getters and setters behaviour:\n",
    "\n",
    "In previous method we used `property()` function in order to achieve getters and setters behaviour. However as mentioned earlier in this post getters and setters are also used for validating the getting and setting of attributes value. There is one more way to implement property function i.e. by using decorator. Python `@property` is one of the built-in decorators. The main purpose of any decorator is to change your class methods or attributes in such a way so that the user of your class no need to make any change in their code. "
   ]
  },
  {
   "cell_type": "code",
   "execution_count": 17,
   "metadata": {},
   "outputs": [
    {
     "name": "stdout",
     "output_type": "stream",
     "text": [
      "100\n",
      "36\n"
     ]
    }
   ],
   "source": [
    "class Person:\n",
    "    def __init__(self):\n",
    "        self.name = \"mahdi\"             #public\n",
    "        self._last_name = \"imani\"       #protected\n",
    "        self.__age = 100                #private\n",
    "\n",
    "    # using property decorator a getter function \n",
    "    @property\n",
    "    def age(self):\n",
    "        return self.__age\n",
    "\n",
    "    # a setter function\n",
    "    @age.setter\n",
    "    def age(self, age):\n",
    "        if(age < 18):\n",
    "            raise ValueError(\"Sorry your age is below eligibility criteria\")\n",
    "        self.__age = age\n",
    "\n",
    "    # a deleter function\n",
    "    @age.deleter\n",
    "    def age(self):\n",
    "        del self.__age\n",
    "\n",
    "p1 = Person()\n",
    "print(p1.age)\n",
    "p1.age = 36\n",
    "print(p1.age)\n",
    "del p1.age"
   ]
  },
  {
   "cell_type": "markdown",
   "metadata": {},
   "source": [
    "<a id='st1'></a>\n",
    "\n",
    "<h1 style = \"color:green;font-size:30px\" dir = \"ltr\"> <b>    \n",
    "    Abstract Classes:\n",
    "</b> </h1> "
   ]
  },
  {
   "cell_type": "markdown",
   "metadata": {},
   "source": [
    "An abstract class can be considered a blueprint for other classes. It allows you to create a set of methods that must be created within any child classes built from the abstract class.\n",
    "\n",
    "A class that contains one or more abstract methods is called an abstract class. An abstract method is a method that has a declaration but does not have an implementation.\n",
    "\n",
    "By default, Python does not provide abstract classes. Python comes with a module that provides the base for defining Abstract Base classes(ABC) and that module name is ABC.\n",
    "\n",
    "ABC works by decorating methods of the base class as an abstract and then registering concrete classes as implementations of the abstract base. A method becomes abstract when decorated with the keyword `@abstractmethod`."
   ]
  },
  {
   "cell_type": "code",
   "execution_count": 18,
   "metadata": {},
   "outputs": [
    {
     "name": "stdout",
     "output_type": "stream",
     "text": [
      "I have 3 sides\n",
      "I have 4 sides\n",
      "I have 5 sides\n",
      "I have 6 sides\n"
     ]
    }
   ],
   "source": [
    "from abc import ABC, abstractmethod\n",
    "\n",
    "\n",
    "class Polygon(ABC):\n",
    "\n",
    "    @abstractmethod\n",
    "    def noofsides(self):\n",
    "        pass\n",
    "\n",
    "\n",
    "class Triangle(Polygon):\n",
    "\n",
    "    # overriding abstract method\n",
    "    def noofsides(self):\n",
    "        print(\"I have 3 sides\")\n",
    "\n",
    "\n",
    "class Pentagon(Polygon):\n",
    "\n",
    "    # overriding abstract method\n",
    "    def noofsides(self):\n",
    "        print(\"I have 5 sides\")\n",
    "\n",
    "\n",
    "class Hexagon(Polygon):\n",
    "\n",
    "    # overriding abstract method\n",
    "    def noofsides(self):\n",
    "        print(\"I have 6 sides\")\n",
    "\n",
    "\n",
    "class Quadrilateral(Polygon):\n",
    "\n",
    "    # overriding abstract method\n",
    "    def noofsides(self):\n",
    "        print(\"I have 4 sides\")\n",
    "\n",
    "t = Triangle()\n",
    "t.noofsides()\n",
    "\n",
    "q = Quadrilateral()\n",
    "q.noofsides()\n",
    "\n",
    "p = Pentagon()\n",
    "p.noofsides()\n",
    "\n",
    "h = Hexagon()\n",
    "h.noofsides()"
   ]
  },
  {
   "cell_type": "markdown",
   "metadata": {},
   "source": [
    "Abstract Properties:\n",
    "\n",
    "Abstract Properties: Abstract classes include attributes in addition to methods, you can require the attributes in concrete classes by defining them with `@abstractproperty`. "
   ]
  },
  {
   "cell_type": "code",
   "execution_count": 26,
   "metadata": {},
   "outputs": [
    {
     "name": "stdout",
     "output_type": "stream",
     "text": [
      "Can't instantiate abstract class parent with abstract method name\n",
      "child class\n"
     ]
    }
   ],
   "source": [
    "from abc import ABC, abstractmethod\n",
    "\n",
    "class parent(ABC):\n",
    "    @property\n",
    "    @abstractmethod\n",
    "    def name(self):\n",
    "        return \"parent class\"\n",
    "\n",
    "\n",
    "class child(parent):\n",
    "    @property\n",
    "    def name(self):\n",
    "        return \"child class\"\n",
    "\n",
    "\n",
    "try:\n",
    "    x = parent()\n",
    "    print(x.name)\n",
    "except Exception as err:\n",
    "    print(err)\n",
    "\n",
    "x = child()\n",
    "print(x.name)\n"
   ]
  },
  {
   "cell_type": "markdown",
   "metadata": {},
   "source": [
    "Abstract Class Instantiation:\n",
    "\n",
    "Abstract classes are incomplete because they have methods that have nobody. If Python allows creating an object for abstract classes then using that object if anyone calls the abstract method, but there is no actual implementation to invoke.\n",
    "\n",
    "So, we use an abstract class as a template and according to the need, we extend it and build on it before we can use it. Due to the fact, an abstract class is not a concrete class, it cannot be instantiated. When we create an object for the abstract class it raises an error. "
   ]
  },
  {
   "cell_type": "code",
   "execution_count": 23,
   "metadata": {},
   "outputs": [
    {
     "name": "stdout",
     "output_type": "stream",
     "text": [
      "Can't instantiate abstract class Animal with abstract method move\n"
     ]
    }
   ],
   "source": [
    "from abc import ABC,abstractmethod\n",
    "\n",
    "class Animal(ABC):\n",
    "    @abstractmethod\n",
    "    def move(self):\n",
    "        pass\n",
    "class Human(Animal):\n",
    "    def move(self):\n",
    "        print(\"I can walk and run\")\n",
    "\n",
    "class Snake(Animal):\n",
    "    def move(self):\n",
    "        print(\"I can crawl\")\n",
    "\n",
    "class Dog(Animal):\n",
    "    def move(self):\n",
    "        print(\"I can bark\")\n",
    "\n",
    "class Lion(Animal):\n",
    "    def move(self):\n",
    "        print(\"I can roar\")\n",
    "\n",
    "try:\n",
    "    x = Animal()\n",
    "except Exception as err:\n",
    "    print(err)\n"
   ]
  },
  {
   "cell_type": "markdown",
   "metadata": {},
   "source": [
    "<a id='str_vs_repr'></a>\n",
    "\n",
    "<h1 style = \"color:red;text-align: center;font-size:50px\"> <b>\n",
    "    str() vs repr()\n",
    "</b> </h1>"
   ]
  },
  {
   "cell_type": "markdown",
   "metadata": {},
   "source": [
    "<a id='st1'></a>\n",
    "\n",
    "<h1 style = \"color:green;font-size:30px\" dir = \"ltr\"> <b>\n",
    "    Meaning and differences:\n",
    "</b> </h1> "
   ]
  },
  {
   "cell_type": "markdown",
   "metadata": {},
   "source": [
    "In Python, the str() and repr() functions are used to obtain string representations of objects. While they may seem similar at first glance, there are some differences in how they behave. Both of the functions can be helpful in debugging or printing useful information about the object."
   ]
  },
  {
   "cell_type": "code",
   "execution_count": 82,
   "metadata": {},
   "outputs": [
    {
     "name": "stdout",
     "output_type": "stream",
     "text": [
      "Hello, World\n",
      "0.18181818181818182\n"
     ]
    }
   ],
   "source": [
    "s = 'Hello, World'\n",
    "print (str(s))\n",
    "print (str(2.0/11.0))"
   ]
  },
  {
   "cell_type": "code",
   "execution_count": 83,
   "metadata": {},
   "outputs": [
    {
     "name": "stdout",
     "output_type": "stream",
     "text": [
      "'Hello, World'\n",
      "0.18181818181818182\n"
     ]
    }
   ],
   "source": [
    "s = 'Hello, World'\n",
    "print (repr(s))\n",
    "print (repr(2.0/11.0))"
   ]
  },
  {
   "cell_type": "markdown",
   "metadata": {},
   "source": [
    "From the above output, we can see if we print a string using the `repr()` function then it prints with a pair of quotes and if we calculate a value we get a more precise value than the `str()` function."
   ]
  },
  {
   "cell_type": "markdown",
   "metadata": {},
   "source": [
    "<a id='st1'></a>\n",
    "\n",
    "<h1 style = \"color:green;font-size:30px\" dir = \"ltr\"> <b>\n",
    "    __str__() and __repr__() with  a Built-In Class:\n",
    "</b> </h1> "
   ]
  },
  {
   "cell_type": "markdown",
   "metadata": {},
   "source": [
    "In this example, we are creating a `DateTime` object of the current time and we are printing it into two different formats.\n",
    "\n",
    "`str()` displays today’s date in a way that the user can understand the date and time. `repr()` prints an “official” representation of a date-time object"
   ]
  },
  {
   "cell_type": "code",
   "execution_count": 84,
   "metadata": {},
   "outputs": [
    {
     "name": "stdout",
     "output_type": "stream",
     "text": [
      "2024-09-12 01:06:54.146267\n",
      "datetime.datetime(2024, 9, 12, 1, 6, 54, 146267)\n"
     ]
    }
   ],
   "source": [
    "import datetime\n",
    "today = datetime.datetime.now()\n",
    " \n",
    "# Prints readable format for date-time object\n",
    "print(str(today))\n",
    " \n",
    "# prints the official format of date-time object\n",
    "print(repr(today))"
   ]
  },
  {
   "cell_type": "markdown",
   "metadata": {},
   "source": [
    "A user-defined class should also have a `__repr__()` if we need detailed information for debugging. And if we think it would be useful to have a string version for users, we create a `__str__()` function. In this example, We have created a class Complex which has two instance variables real and imag. We are creating custom `__repr__()` and `__str__()` methods in the class.\n",
    "\n"
   ]
  },
  {
   "cell_type": "code",
   "execution_count": 89,
   "metadata": {},
   "outputs": [
    {
     "name": "stdout",
     "output_type": "stream",
     "text": [
      "10 + 20i\n",
      "Rational(10, 20)\n"
     ]
    }
   ],
   "source": [
    "# Defined class to represent Complex numbers\n",
    "class Complex:\n",
    "    def __init__(self, real, imag):\n",
    "        self.real = real\n",
    "        self.imag = imag\n",
    "\n",
    "\t# For call to str(). Prints readable form\n",
    "    def __str__(self):\n",
    "        return '%s + %si' % (self.real, self.imag) \n",
    "\n",
    "\t# For call to repr(). Prints object's information\n",
    "    def __repr__(self):\n",
    "        return 'Rational(%s, %s)' % (self.real, self.imag) \n",
    "    \n",
    "\n",
    "x = Complex(10, 20)\n",
    "\n",
    "print (str(x))\n",
    "\n",
    "print (repr(x))\n"
   ]
  },
  {
   "cell_type": "markdown",
   "metadata": {},
   "source": [
    "<a id='iterators'></a>\n",
    "\n",
    "<h1 style = \"color:red;text-align: center;font-size:50px\"> <b>\n",
    "    Iterators\n",
    "</b> </h1>"
   ]
  },
  {
   "cell_type": "markdown",
   "metadata": {},
   "source": [
    "<a id='st1'></a>\n",
    "\n",
    "<h1 style = \"color:green;font-size:30px\" dir = \"ltr\"> <b>\n",
    "    Meaning:\n",
    "</b> </h1> "
   ]
  },
  {
   "cell_type": "markdown",
   "metadata": {},
   "source": [
    "An iterator is an object that contains a countable number of values.\n",
    "\n",
    "An iterator is an object that can be iterated upon, meaning that you can traverse through all the values.\n",
    "\n",
    "Technically, in Python, an iterator is an object which implements the iterator protocol, which consist of the methods `__iter__()` and `__next__()`.\n",
    "\n",
    "Iterator vs Iterable: Lists, tuples, dictionaries, and sets are all iterable objects. They are iterable containers which you can get an iterator from.\n",
    "\n",
    "All these objects have a `iter()` method which is used to get an iterator.\n",
    "\n",
    "Even strings are iterable objects, and can return an iterator."
   ]
  },
  {
   "cell_type": "code",
   "execution_count": 121,
   "metadata": {},
   "outputs": [
    {
     "name": "stdout",
     "output_type": "stream",
     "text": [
      "apple\n",
      "banana\n",
      "cherry\n"
     ]
    }
   ],
   "source": [
    "mytuple = (\"apple\", \"banana\", \"cherry\")\n",
    "myit = iter(mytuple)\n",
    "\n",
    "print(next(myit))\n",
    "print(next(myit))\n",
    "print(next(myit))"
   ]
  },
  {
   "cell_type": "markdown",
   "metadata": {},
   "source": [
    "The `for` loop actually creates an iterator object and executes the `next()` method for each loop"
   ]
  },
  {
   "cell_type": "code",
   "execution_count": 122,
   "metadata": {},
   "outputs": [
    {
     "name": "stdout",
     "output_type": "stream",
     "text": [
      "b\n",
      "a\n",
      "n\n",
      "a\n",
      "n\n",
      "a\n"
     ]
    }
   ],
   "source": [
    "mystr = \"banana\"\n",
    "\n",
    "for x in mystr:\n",
    "    print(x)"
   ]
  },
  {
   "cell_type": "markdown",
   "metadata": {},
   "source": [
    "<a id='st1'></a>\n",
    "\n",
    "<h1 style = \"color:green;font-size:30px\" dir = \"ltr\"> <b>\n",
    "    Create an Iterator:\n",
    "</b> </h1> "
   ]
  },
  {
   "cell_type": "markdown",
   "metadata": {},
   "source": [
    "To create an object/class as an iterator you have to implement the methods `__iter__()` and `__next__()` to your object.\n",
    "\n",
    "As you have learned in the Python Classes/Objects chapter, all classes have a function called `__init__()`, which allows you to do some initializing when the object is being created.\n",
    "\n",
    "The `__iter__()` method acts similar, you can do operations (initializing etc.), but must always return the iterator object itself.\n",
    "\n",
    "The `__next__()` method also allows you to do operations, and must return the next item in the sequence.\n",
    "\n",
    "To prevent the iteration from going on forever, we can use the `StopIteration` statement.\n",
    "\n",
    "In the` __next__()` method, we can add a terminating condition to raise an error if the iteration is done a specified number of times."
   ]
  },
  {
   "cell_type": "code",
   "execution_count": 126,
   "metadata": {},
   "outputs": [
    {
     "name": "stdout",
     "output_type": "stream",
     "text": [
      "1\n",
      "2\n",
      "3\n"
     ]
    }
   ],
   "source": [
    "class MyNumbers:\n",
    "    def __iter__(self):\n",
    "        self.a = 1\n",
    "        return self\n",
    "\n",
    "    def __next__(self):\n",
    "        if self.a <= 5:\n",
    "            x = self.a\n",
    "            self.a += 1\n",
    "            return x\n",
    "        else:\n",
    "            raise StopIteration\n",
    "\n",
    "myclass1 = MyNumbers()\n",
    "myiter1 = iter(myclass1)\n",
    "print(next(myiter1))\n",
    "print(next(myiter1))\n",
    "print(next(myiter1))"
   ]
  },
  {
   "cell_type": "code",
   "execution_count": 127,
   "metadata": {},
   "outputs": [
    {
     "name": "stdout",
     "output_type": "stream",
     "text": [
      "1\n",
      "2\n",
      "3\n",
      "4\n",
      "5\n"
     ]
    }
   ],
   "source": [
    "myclass2 = MyNumbers()\n",
    "myiter2 = iter(myclass2)\n",
    "for x in myiter2:\n",
    "  print(x)"
   ]
  },
  {
   "cell_type": "markdown",
   "metadata": {},
   "source": [
    "<a id='modules'></a>\n",
    "\n",
    "<h1 style = \"color:red;text-align: center;font-size:50px\"> <b>\n",
    "    Modules\n",
    "</b> </h1>"
   ]
  },
  {
   "cell_type": "markdown",
   "metadata": {},
   "source": [
    "<a id='st1'></a>\n",
    "\n",
    "<h1 style = \"color:green;font-size:30px\" dir = \"ltr\"> <b>\n",
    "    What is Module:\n",
    "</b> </h1> "
   ]
  },
  {
   "cell_type": "markdown",
   "metadata": {},
   "source": [
    "Consider a module to be the same as a code library.\n",
    "\n",
    "A file containing a set of functions you want to include in your application.\n",
    "\n",
    "The module can contain functions, as already described, but also variables of all types (arrays, dictionaries, objects etc).\n",
    "\n",
    "To create a module just save the code you want in a file with the file extension `.py`.\n",
    "\n",
    "You can name the module file whatever you like, but it must have the file extension `.py`.\n",
    "\n",
    "Now we can use the module we just created, by using the `import` statement.\n",
    "\n",
    "Re-naming a Module: You can create an alias when you import a module, by using the `as` keyword.\n",
    "\n",
    "You can choose to import only parts `from` a module, by using the from keyword.\n",
    "\n",
    "There is a built-in function to list all the function names (or variable names) in a module. The `dir()` function.\n",
    "\n",
    "There are several built-in modules in Python, which you can import whenever you like."
   ]
  },
  {
   "cell_type": "code",
   "execution_count": 1,
   "metadata": {},
   "outputs": [
    {
     "name": "stdout",
     "output_type": "stream",
     "text": [
      "['_Processor', '_WIN32_CLIENT_RELEASES', '_WIN32_SERVER_RELEASES', '__builtins__', '__cached__', '__copyright__', '__doc__', '__file__', '__loader__', '__name__', '__package__', '__spec__', '__version__', '_comparable_version', '_component_re', '_default_architecture', '_follow_symlinks', '_get_machine_win32', '_ironpython26_sys_version_parser', '_ironpython_sys_version_parser', '_java_getprop', '_libc_search', '_mac_ver_xml', '_node', '_norm_version', '_os_release_cache', '_os_release_candidates', '_os_release_line', '_os_release_unescape', '_parse_os_release', '_platform', '_platform_cache', '_pypy_sys_version_parser', '_sys_version', '_sys_version_cache', '_sys_version_parser', '_syscmd_file', '_syscmd_ver', '_uname_cache', '_unknown_as_blank', '_ver_output', '_ver_stages', 'architecture', 'collections', 'freedesktop_os_release', 'functools', 'itertools', 'java_ver', 'libc_ver', 'mac_ver', 'machine', 'node', 'os', 'platform', 'processor', 'python_branch', 'python_build', 'python_compiler', 'python_implementation', 'python_revision', 'python_version', 'python_version_tuple', 're', 'release', 'sys', 'system', 'system_alias', 'uname', 'uname_result', 'version', 'win32_edition', 'win32_is_iot', 'win32_ver']\n"
     ]
    }
   ],
   "source": [
    "import platform\n",
    "\n",
    "print(dir(platform))"
   ]
  },
  {
   "cell_type": "code",
   "execution_count": 81,
   "metadata": {},
   "outputs": [
    {
     "name": "stdout",
     "output_type": "stream",
     "text": [
      "Hello World :)"
     ]
    },
    {
     "data": {
      "text/plain": [
       "14"
      ]
     },
     "execution_count": 81,
     "metadata": {},
     "output_type": "execute_result"
    }
   ],
   "source": [
    "import sys \n",
    "\n",
    "sys.stdout.write(\"Hello World :)\")"
   ]
  },
  {
   "cell_type": "code",
   "execution_count": 9,
   "metadata": {},
   "outputs": [
    {
     "name": "stdout",
     "output_type": "stream",
     "text": [
      "1.0\n"
     ]
    }
   ],
   "source": [
    "import numpy as np\n",
    "\n",
    "print(np.log10(10))"
   ]
  },
  {
   "cell_type": "code",
   "execution_count": 7,
   "metadata": {},
   "outputs": [
    {
     "name": "stdout",
     "output_type": "stream",
     "text": [
      "windows\n"
     ]
    }
   ],
   "source": [
    "from os import name\n",
    "\n",
    "# for windows(here, os.name is 'nt')\n",
    "if name == 'nt':\n",
    "    print('windows')\n",
    "# for mac and linux(here, os.name is 'posix')\n",
    "elif name == 'posix':\n",
    "    print('mac or linux')"
   ]
  },
  {
   "cell_type": "markdown",
   "metadata": {},
   "source": [
    "<a id='st1'></a>\n",
    "\n",
    "<h1 style = \"color:green;font-size:30px\" dir = \"ltr\"> <b>\n",
    "    Dates:\n",
    "</b> </h1> "
   ]
  },
  {
   "cell_type": "markdown",
   "metadata": {},
   "source": [
    "A date in Python is not a data type of its own, but we can import a module named datetime to work with dates as date objects.\n",
    "\n",
    "The date contains year, month, day, hour, minute, second, and microsecond.\n",
    "\n",
    "The datetime module has many methods to return information about the date object."
   ]
  },
  {
   "cell_type": "code",
   "execution_count": 11,
   "metadata": {},
   "outputs": [
    {
     "name": "stdout",
     "output_type": "stream",
     "text": [
      "2024-09-11 20:01:26.897499\n",
      "2024\n",
      "Wednesday\n"
     ]
    }
   ],
   "source": [
    "import datetime\n",
    "\n",
    "x = datetime.datetime.now()\n",
    "\n",
    "print(x)\n",
    "print(x.year)\n",
    "print(x.strftime(\"%A\"))"
   ]
  },
  {
   "cell_type": "markdown",
   "metadata": {},
   "source": [
    "To create a date, we can use the `datetime()` class (constructor) of the `datetime` module.\n",
    "\n",
    "The `datetime()` class requires three parameters to create a date: year, month, day.\n",
    "\n",
    "The `datetime()` class also takes parameters for time and timezone (hour, minute, second, microsecond, tzone), but they are optional, and has a default value of `0`, (`None` for timezone).\n",
    "\n",
    "The `datetime` object has a method for formatting date objects into readable strings.\n",
    "\n",
    "The method is called `strftime()`, and takes one parameter, `format`, to specify the format of the returned string.\n",
    "\n",
    "Learn more about legal format in [Dates](https://www.w3schools.com/python/python_datetime.asp) chapter."
   ]
  },
  {
   "cell_type": "code",
   "execution_count": 12,
   "metadata": {},
   "outputs": [
    {
     "name": "stdout",
     "output_type": "stream",
     "text": [
      "May\n"
     ]
    }
   ],
   "source": [
    "import datetime\n",
    "\n",
    "x = datetime.datetime(2020, 5, 17)\n",
    "\n",
    "print(x.strftime(\"%B\"))"
   ]
  },
  {
   "cell_type": "code",
   "execution_count": 14,
   "metadata": {},
   "outputs": [
    {
     "name": "stdout",
     "output_type": "stream",
     "text": [
      "2024-09-11 20:08:40.251153\n",
      "2024-10-11 20:08:40.251153\n",
      "30 days, 0:00:00\n"
     ]
    }
   ],
   "source": [
    "from datetime import datetime, timedelta\n",
    "\n",
    "start = datetime.now()\n",
    "end = start + timedelta(days=30)\n",
    "\n",
    "print(start)\n",
    "print(end)\n",
    "print(end - start)"
   ]
  },
  {
   "cell_type": "code",
   "execution_count": 15,
   "metadata": {},
   "outputs": [
    {
     "name": "stdout",
     "output_type": "stream",
     "text": [
      "30\n",
      "2592000.0\n",
      "30\n"
     ]
    }
   ],
   "source": [
    "from datetime import datetime, timedelta\n",
    "\n",
    "start = datetime.now()\n",
    "end = start + timedelta(days=30)\n",
    "\n",
    "x = end - start\n",
    "print(x.days)\n",
    "print(x.total_seconds())\n",
    "print(int(x.total_seconds() / 60 / 60 / 24))"
   ]
  },
  {
   "cell_type": "markdown",
   "metadata": {},
   "source": [
    "To handle time zone you can use pytz library"
   ]
  },
  {
   "cell_type": "code",
   "execution_count": 19,
   "metadata": {},
   "outputs": [
    {
     "name": "stdout",
     "output_type": "stream",
     "text": [
      "2024-09-11 20:11:18.372945+03:30\n",
      "2024-09-11 09:41:18.372945-07:00\n",
      "0:00:00\n"
     ]
    }
   ],
   "source": [
    "from datetime import datetime\n",
    "import pytz\n",
    "\n",
    "tz = pytz.timezone(\"Asia/Tehran\")\n",
    "x = datetime.now(tz)\n",
    "print(x)\n",
    "\n",
    "tz = pytz.timezone(\"America/Los_angeles\")\n",
    "y = datetime.now(tz)\n",
    "print(y)\n",
    "\n",
    "print(y - x)"
   ]
  },
  {
   "cell_type": "markdown",
   "metadata": {},
   "source": [
    "<a id='st1'></a>\n",
    "\n",
    "<h1 style = \"color:green;font-size:30px\" dir = \"ltr\"> <b>\n",
    "    Math:\n",
    "</b> </h1> "
   ]
  },
  {
   "cell_type": "markdown",
   "metadata": {},
   "source": [
    "Python has a set of built-in math functions, including an extensive math module, that allows you to perform mathematical tasks on numbers.\n",
    "\n",
    "The `min()` and `max()` functions can be used to find the lowest or highest value in an iterable.\n",
    "\n",
    "The `abs()` function returns the absolute (positive) value of the specified number\n",
    "\n",
    "The `pow(x, y)` function returns the value of x to the power of y."
   ]
  },
  {
   "cell_type": "code",
   "execution_count": 21,
   "metadata": {},
   "outputs": [
    {
     "name": "stdout",
     "output_type": "stream",
     "text": [
      "5\n",
      "25\n"
     ]
    }
   ],
   "source": [
    "x = min(5, 10, 25)\n",
    "y = max(5, 10, 25)\n",
    "\n",
    "print(x)\n",
    "print(y)"
   ]
  },
  {
   "cell_type": "code",
   "execution_count": 23,
   "metadata": {},
   "outputs": [
    {
     "name": "stdout",
     "output_type": "stream",
     "text": [
      "7.25\n",
      "64\n"
     ]
    }
   ],
   "source": [
    "x = abs(-7.25)\n",
    "print(x)\n",
    "\n",
    "x = pow(4, 3)\n",
    "print(x)"
   ]
  },
  {
   "cell_type": "markdown",
   "metadata": {},
   "source": [
    "The Math Module: Python has also a built-in module called `math`, which extends the list of mathematical functions. \n",
    "\n",
    "To use it, you must import the `math` module.\n",
    "\n",
    "The `math.sqrt()` method for example, returns the square root of a number.\n",
    "\n",
    "The `math.pi` constant, returns the value of PI (3.14...)\n",
    "\n",
    "The `math.ceil()` method rounds a number upwards to its nearest integer, and the `math.floor()` method rounds a number downwards to its nearest integer, and returns the result."
   ]
  },
  {
   "cell_type": "code",
   "execution_count": 25,
   "metadata": {},
   "outputs": [
    {
     "name": "stdout",
     "output_type": "stream",
     "text": [
      "8.0\n",
      "3.141592653589793\n"
     ]
    }
   ],
   "source": [
    "import math\n",
    "\n",
    "x = math.sqrt(64)\n",
    "print(x)\n",
    "\n",
    "x = math.pi\n",
    "print(x)"
   ]
  },
  {
   "cell_type": "code",
   "execution_count": 26,
   "metadata": {},
   "outputs": [
    {
     "name": "stdout",
     "output_type": "stream",
     "text": [
      "2\n",
      "1\n"
     ]
    }
   ],
   "source": [
    "import math\n",
    "\n",
    "x = math.ceil(1.4)\n",
    "y = math.floor(1.4)\n",
    "\n",
    "print(x) # returns 2\n",
    "print(y) # returns 1"
   ]
  },
  {
   "cell_type": "markdown",
   "metadata": {},
   "source": [
    "Learn more about Math Methods in [Math Methods](https://www.w3schools.com/python/module_math.asp) chapter."
   ]
  },
  {
   "cell_type": "markdown",
   "metadata": {},
   "source": [
    "<a id='st1'></a>\n",
    "\n",
    "<h1 style = \"color:green;font-size:30px\" dir = \"ltr\"> <b>\n",
    "    Json:\n",
    "</b> </h1> "
   ]
  },
  {
   "cell_type": "markdown",
   "metadata": {},
   "source": [
    "JSON is a syntax for storing and exchanging data.\n",
    "\n",
    "JSON is text, written with JavaScript object notation.\n",
    "\n",
    "Python has a built-in package called json, which can be used to work with JSON data.\n",
    "\n",
    "If you have a JSON string, you can parse it by using the `json.loads()` method.\n",
    "\n",
    "The result will be a Python dictionary.\n",
    "\n",
    "If you have a Python object, you can convert it into a JSON string by using the j`son.dumps()` method."
   ]
  },
  {
   "cell_type": "code",
   "execution_count": 27,
   "metadata": {},
   "outputs": [
    {
     "name": "stdout",
     "output_type": "stream",
     "text": [
      "30\n"
     ]
    }
   ],
   "source": [
    "import json\n",
    "\n",
    "# some JSON:\n",
    "x =  '{ \"name\":\"mahdi\", \"age\":100, \"city\":\"Tehran\"}'\n",
    "\n",
    "# parse x:\n",
    "y = json.loads(x)\n",
    "\n",
    "# the result is a Python dictionary:\n",
    "print(y[\"age\"])"
   ]
  },
  {
   "cell_type": "code",
   "execution_count": 30,
   "metadata": {},
   "outputs": [
    {
     "name": "stdout",
     "output_type": "stream",
     "text": [
      "{\"name\": \"mahdi\", \"age\": 100, \"married\": false, \"pets\": null, \"cars\": [{\"model\": \"BMW 230\", \"mpg\": 27.5}, {\"model\": \"Ford Edge\", \"mpg\": 24.1}]}\n"
     ]
    }
   ],
   "source": [
    "import json\n",
    "\n",
    "# a Python object (dict):\n",
    "x = {\n",
    "    \"name\": \"mahdi\",\n",
    "    \"age\": 100,\n",
    "    \"married\": False,\n",
    "    \"pets\": None,\n",
    "    \"cars\": [\n",
    "        {\"model\": \"BMW 230\", \"mpg\": 27.5},\n",
    "        {\"model\": \"Ford Edge\", \"mpg\": 24.1}\n",
    "    ]\n",
    "}\n",
    "\n",
    "# convert into JSON:\n",
    "y = json.dumps(x)\n",
    "\n",
    "# the result is a JSON string:\n",
    "print(y)"
   ]
  },
  {
   "cell_type": "markdown",
   "metadata": {},
   "source": [
    "You can convert Python objects of the following types, into JSON strings. When you convert from Python to JSON, Python objects are converted into the JSON (JavaScript) equivalent.\n",
    "\n",
    "|Python|\tJSON|\n",
    "|------|--------|\n",
    "|dict|\tObject|\n",
    "|list|\tArray|\n",
    "|tuple|\tArray|\n",
    "|str|\tString|\n",
    "|int|\tNumber|\n",
    "|float|\tNumber|\n",
    "|True|\ttrue|\n",
    "|False|\tfalse|\n",
    "|None|\tnull|\n"
   ]
  },
  {
   "cell_type": "markdown",
   "metadata": {},
   "source": [
    "The example above prints a JSON string, but it is not very easy to read, with no indentations and line breaks.\n",
    "\n",
    "The j`son.dumps()` method has parameters to make it easier to read the result:\n",
    "\n",
    "- Use the `indent` parameter to define the numbers of indents\n",
    "\n",
    "- Use the `separators` parameter to change the default separator: You can also define the separators, default value is (\", \", \": \"), which means using a comma and a space to separate each object, and a colon and a space to separate keys from values.\n",
    "\n"
   ]
  },
  {
   "cell_type": "code",
   "execution_count": 32,
   "metadata": {},
   "outputs": [
    {
     "name": "stdout",
     "output_type": "stream",
     "text": [
      "{\n",
      "    \"name\": \"mahdi\",\n",
      "    \"age\": 100,\n",
      "    \"married\": false,\n",
      "    \"pets\": null,\n",
      "    \"cars\": [\n",
      "        {\n",
      "            \"model\": \"BMW 230\",\n",
      "            \"mpg\": 27.5\n",
      "        },\n",
      "        {\n",
      "            \"model\": \"Ford Edge\",\n",
      "            \"mpg\": 24.1\n",
      "        }\n",
      "    ]\n",
      "}\n"
     ]
    }
   ],
   "source": [
    "y = json.dumps(x, indent=4)\n",
    "print(y)"
   ]
  },
  {
   "cell_type": "code",
   "execution_count": 34,
   "metadata": {},
   "outputs": [
    {
     "name": "stdout",
     "output_type": "stream",
     "text": [
      "{\n",
      "    \"name\" = \"mahdi\". \n",
      "    \"age\" = 100. \n",
      "    \"married\" = false. \n",
      "    \"pets\" = null. \n",
      "    \"cars\" = [\n",
      "        {\n",
      "            \"model\" = \"BMW 230\". \n",
      "            \"mpg\" = 27.5\n",
      "        }. \n",
      "        {\n",
      "            \"model\" = \"Ford Edge\". \n",
      "            \"mpg\" = 24.1\n",
      "        }\n",
      "    ]\n",
      "}\n"
     ]
    }
   ],
   "source": [
    "y = json.dumps(x, indent=4, separators=(\". \", \" = \"))\n",
    "print(y)"
   ]
  },
  {
   "cell_type": "markdown",
   "metadata": {},
   "source": [
    "The `json.dumps()` method has parameters to order the keys in the result."
   ]
  },
  {
   "cell_type": "code",
   "execution_count": 35,
   "metadata": {},
   "outputs": [
    {
     "name": "stdout",
     "output_type": "stream",
     "text": [
      "{\n",
      "    \"age\": 100,\n",
      "    \"cars\": [\n",
      "        {\n",
      "            \"model\": \"BMW 230\",\n",
      "            \"mpg\": 27.5\n",
      "        },\n",
      "        {\n",
      "            \"model\": \"Ford Edge\",\n",
      "            \"mpg\": 24.1\n",
      "        }\n",
      "    ],\n",
      "    \"married\": false,\n",
      "    \"name\": \"mahdi\",\n",
      "    \"pets\": null\n",
      "}\n"
     ]
    }
   ],
   "source": [
    "y = json.dumps(x, indent=4, sort_keys=True)\n",
    "print(y)"
   ]
  },
  {
   "cell_type": "markdown",
   "metadata": {},
   "source": [
    "<a id='st1'></a>\n",
    "\n",
    "<h1 style = \"color:green;font-size:30px\" dir = \"ltr\"> <b>\n",
    "    RegEx:\n",
    "</b> </h1> "
   ]
  },
  {
   "cell_type": "markdown",
   "metadata": {},
   "source": [
    "A RegEx, or Regular Expression, is a sequence of characters that forms a search pattern.\n",
    "\n",
    "RegEx can be used to check if a string contains the specified search pattern.\n",
    "\n",
    "Python has a built-in package called re, which can be used to work with Regular Expressions."
   ]
  },
  {
   "cell_type": "markdown",
   "metadata": {},
   "source": [
    "The `re` module offers a set of functions that allows us to search a string for a match:\n",
    "\n",
    "|Function|\tDescription|\n",
    "|--------|-------------|\n",
    "|findall|\tReturns a list containing all matches|\n",
    "|search|\tReturns a Match object if there is a match anywhere in the string|\n",
    "|split|\tReturns a list where the string has been split at each match|\n",
    "|sub|\tReplaces one or many matches with a string|"
   ]
  },
  {
   "cell_type": "markdown",
   "metadata": {},
   "source": [
    "Metacharacters are characters with a special meaning:\n",
    "\n",
    "|Character|\tDescription|\tExample|\n",
    "|---------|-------------|-----------|\n",
    "|[]|\tA set of characters|\t\"[a-m]\"\t|\n",
    "|\\ |\tSignals a special sequence (can also be used to escape special characters)|\t\"\\d\"\t|\n",
    "|.|\tAny character (except newline character)|\t\"he..o\"\t|\n",
    "|^|\tStarts with|\t\"^hello\"\t|\n",
    "|$|\tEnds with|\t\"planet$\"|\n",
    "|*|\tZero or more occurrences|\t\"he.*o\"\t|\n",
    "|+|\tOne or more occurrences|\t\"he.+o\"\t|\n",
    "|?|\tZero or one occurrences|\t\"he.?o\"\t|\n",
    "|{}|\tExactly the specified number of occurrences|\t\"he.{2}o\"\t|\n",
    "|\\| |\tEither or|\t\"falls\\|stays\"\t|\n",
    "|()|\tCapture and group|\t "
   ]
  },
  {
   "cell_type": "markdown",
   "metadata": {},
   "source": [
    "A special sequence is a `\\` followed by one of the characters in the list below, and has a special meaning:\n",
    "\n",
    "|Character|\tDescription|\tExample|\n",
    "|---------|-------------|----------|\n",
    "|\\A|\tReturns a match if the specified characters are at the beginning of the string|\t\"\\AThe\"\t|\n",
    "|\\b|\tReturns a match where the specified characters are at the beginning or at the end of a word (the \"r\" in the beginning is making sure that the string is being treated as a \"raw string\")|\tr\"\\bain\" r\"ain\\b\"\t|\n",
    "|\\B|\tReturns a match where the specified characters are present, but NOT at the beginning (or at the end) of a word (the \"r\" in the beginning is making sure that the string is being treated as a \"raw string\")|\tr\"\\Bain\" r\"ain\\B\"|\n",
    "|\\d|\tReturns a match where the string contains digits (numbers from 0-9)|\t\"\\d\"|\t\n",
    "|\\D|\tReturns a match where the string DOES NOT contain digits|\t\"\\D\"\t|\n",
    "|\\s|\tReturns a match where the string contains a white space character|\t\"\\s\"|\t\n",
    "|\\S|\tReturns a match where the string DOES NOT contain a white space character|\t\"\\S\"|\t\n",
    "|\\w|\tReturns a match where the string contains any word characters (characters from a to Z, digits from 0-9, and the underscore _ character)|\t\"\\w\"|\t\n",
    "|\\W|\tReturns a match where the string DOES NOT contain any word characters|\t\"\\W\"|\t\n",
    "|\\Z|\tReturns a match if the specified characters are at the end of the string|\t\"Spain\\Z\"|"
   ]
  },
  {
   "cell_type": "markdown",
   "metadata": {},
   "source": [
    "A set is a set of characters inside a pair of square brackets [] with a special meaning:\n",
    "\n",
    "|Set|\tDescription|\n",
    "|---|---------------|\n",
    "|[arn]|\tReturns a match where one of the specified characters (a, r, or n) is present\t|\n",
    "|[a-n]|\tReturns a match for any lower case character, alphabetically between a and n|\t\n",
    "|[^arn]|\tReturns a match for any character EXCEPT a, r, and n\t|\n",
    "|[0123]|\tReturns a match where any of the specified digits (0, 1, 2, or 3) are present\t|\n",
    "|[0-9]|\tReturns a match for any digit between 0 and 9\t|\n",
    "|[0-5][0-9]|\tReturns a match for any two-digit numbers from 00 and 59\t|\n",
    "|[a-zA-Z]|\tReturns a match for any character alphabetically between a and z, lower case OR upper case\t|\n",
    "|[+]|\tIn sets, +, *, ., \\|, (), $,{} has no special meaning, so [+] means: return a match for any + character in the string|"
   ]
  },
  {
   "cell_type": "code",
   "execution_count": 41,
   "metadata": {},
   "outputs": [
    {
     "name": "stdout",
     "output_type": "stream",
     "text": [
      "<re.Match object; span=(0, 17), match='The rain in Spain'>\n",
      "None\n",
      "The first white-space character is located in position: 3\n"
     ]
    }
   ],
   "source": [
    "import re\n",
    "\n",
    "txt = \"The rain in Spain\"\n",
    "# Search the string to see if it starts with \"The\" and ends with \"Spain\":\n",
    "x = re.search(\"^The.*Spain$\", txt)\n",
    "print(x)\n",
    "\n",
    "# If no matches are found, the value None is returned\n",
    "x = re.search(\"Portugal\", txt)\n",
    "print(x)\n",
    "\n",
    "# The search() function searches the string for a match, and returns a Match object if there is a match.\n",
    "# If there is more than one match, only the first occurrence of the match will be returne\n",
    "x = re.search(\"\\s\", txt)\n",
    "print(\"The first white-space character is located in position:\", x.start())"
   ]
  },
  {
   "cell_type": "code",
   "execution_count": 38,
   "metadata": {},
   "outputs": [
    {
     "name": "stdout",
     "output_type": "stream",
     "text": [
      "['ai', 'ai']\n",
      "[]\n"
     ]
    }
   ],
   "source": [
    "import re\n",
    "txt = \"The rain in Spain\"\n",
    "\n",
    "# Print a list of all matches\n",
    "x = re.findall(\"ai\", txt)\n",
    "print(x)\n",
    "\n",
    "x = re.findall(\"Portugal\", txt)\n",
    "print(x)"
   ]
  },
  {
   "cell_type": "code",
   "execution_count": 42,
   "metadata": {},
   "outputs": [
    {
     "name": "stdout",
     "output_type": "stream",
     "text": [
      "['The', 'rain', 'in', 'Spain']\n",
      "['The', 'rain in Spain']\n"
     ]
    }
   ],
   "source": [
    "import re\n",
    "txt = \"The rain in Spain\"\n",
    "\n",
    "# The split() function returns a list where the string has been split at each match\n",
    "x = re.split(\"\\s\", txt)\n",
    "print(x)\n",
    "\n",
    "# You can control the number of occurrences by specifying the maxsplit parameter\n",
    "x = re.split(\"\\s\", txt, 1)\n",
    "print(x)\n"
   ]
  },
  {
   "cell_type": "code",
   "execution_count": 44,
   "metadata": {},
   "outputs": [
    {
     "name": "stdout",
     "output_type": "stream",
     "text": [
      "The9rain9in9Spain\n",
      "The9rain9in Spain\n"
     ]
    }
   ],
   "source": [
    "import re\n",
    "txt = \"The rain in Spain\"\n",
    "\n",
    "# The sub() function replaces the matches with the text of your choice\n",
    "x = re.sub(\"\\s\", \"9\", txt)\n",
    "print(x)\n",
    "\n",
    "# You can control the number of replacements by specifying the count parameter\n",
    "x = re.sub(\"\\s\", \"9\", txt, 2)\n",
    "print(x)"
   ]
  },
  {
   "cell_type": "markdown",
   "metadata": {},
   "source": [
    "The Match object has properties and methods used to retrieve information about the search, and the result:\n",
    "\n",
    "- `.span()` returns a tuple containing the start-, and end positions of the match.\n",
    "\n",
    "- `.string` returns the string passed into the function\n",
    "\n",
    "- `.group()` returns the part of the string where there was a match"
   ]
  },
  {
   "cell_type": "code",
   "execution_count": 45,
   "metadata": {},
   "outputs": [
    {
     "name": "stdout",
     "output_type": "stream",
     "text": [
      "(12, 17)\n"
     ]
    }
   ],
   "source": [
    "import re\n",
    "\n",
    "txt = \"The rain in Spain\"\n",
    "x = re.search(r\"\\bS\\w+\", txt)\n",
    "\n",
    "# Print the position (start- and end-position) of the first match occurrence.\n",
    "# The regular expression looks for any words that starts with an upper case \"S\"\n",
    "print(x.span())"
   ]
  },
  {
   "cell_type": "code",
   "execution_count": 46,
   "metadata": {},
   "outputs": [
    {
     "name": "stdout",
     "output_type": "stream",
     "text": [
      "The rain in Spain\n"
     ]
    }
   ],
   "source": [
    "import re\n",
    "\n",
    "txt = \"The rain in Spain\"\n",
    "x = re.search(r\"\\bS\\w+\", txt)\n",
    "\n",
    "# Print the string passed into the function\n",
    "print(x.string)"
   ]
  },
  {
   "cell_type": "code",
   "execution_count": 47,
   "metadata": {},
   "outputs": [
    {
     "name": "stdout",
     "output_type": "stream",
     "text": [
      "Spain\n"
     ]
    }
   ],
   "source": [
    "import re\n",
    "\n",
    "txt = \"The rain in Spain\"\n",
    "x = re.search(r\"\\bS\\w+\", txt)\n",
    "\n",
    "# Print the part of the string where there was a match.\n",
    "# The regular expression looks for any words that starts with an upper case \"S\":\n",
    "print(x.group())"
   ]
  },
  {
   "cell_type": "markdown",
   "metadata": {},
   "source": [
    "<a id='st1'></a>\n",
    "\n",
    "<h1 style = \"color:green;font-size:30px\" dir = \"ltr\"> <b>\n",
    "    PIP:\n",
    "</b> </h1> "
   ]
  },
  {
   "cell_type": "markdown",
   "metadata": {},
   "source": [
    "PIP is a package manager for Python packages, or modules if you like.\n",
    "\n",
    "A package contains all the files you need for a module.\n",
    "\n",
    "Modules are Python code libraries you can include in your project."
   ]
  },
  {
   "cell_type": "markdown",
   "metadata": {},
   "source": [
    "#### Check if PIP is Installed:\n",
    "\n",
    "Navigate your command line to the location of Python's script directory, and type the following\n",
    "\n",
    "> C:\\Users\\Your Name\\AppData\\Local\\Programs\\Python\\Python36-32\\Scripts>pip --version"
   ]
  },
  {
   "cell_type": "markdown",
   "metadata": {},
   "source": [
    "#### Install PIP:\n",
    "\n",
    "If you do not have PIP installed, you can download and install it from this page: https://pypi.org/project/pip/"
   ]
  },
  {
   "cell_type": "markdown",
   "metadata": {},
   "source": [
    "#### Download a Package:\n",
    "\n",
    "Downloading a package is very easy.\n",
    "\n",
    "Open the command line interface and tell PIP to download the package you want.\n",
    "\n",
    "Navigate your command line to the location of Python's script directory, and type the following.\n",
    "\n",
    "> C:\\Users\\Your Name\\AppData\\Local\\Programs\\Python\\Python36-32\\Scripts>pip install camelcase\n",
    "\n",
    "Or you can use this command\n",
    "\n",
    "> C:\\Users\\Your Name\\AppData\\Local\\Programs\\Python\\Python36-32\\Scripts>python -m pip install camelcase"
   ]
  },
  {
   "cell_type": "markdown",
   "metadata": {},
   "source": [
    "#### Find Packages:\n",
    "\n",
    "Find more packages at https://pypi.org/"
   ]
  },
  {
   "cell_type": "markdown",
   "metadata": {},
   "source": [
    "#### Remove a Package:\n",
    "\n",
    "Use the uninstall command to remove a package\n",
    "\n",
    "> C:\\Users\\Your Name\\AppData\\Local\\Programs\\Python\\Python36-32\\Scripts>pip uninstall camelcase"
   ]
  },
  {
   "cell_type": "markdown",
   "metadata": {},
   "source": [
    "#### List Packages:\n",
    "\n",
    "Use the list command to list all the packages installed on your system\n",
    "\n",
    "> C:\\Users\\Your Name\\AppData\\Local\\Programs\\Python\\Python36-32\\Scripts>pip list"
   ]
  },
  {
   "cell_type": "markdown",
   "metadata": {},
   "source": [
    "#### Using a Package:\n",
    "Once the package is installed, it is ready to use.\n",
    "\n",
    "Import the \"camelcase\" package into your project."
   ]
  },
  {
   "cell_type": "code",
   "execution_count": 51,
   "metadata": {},
   "outputs": [
    {
     "name": "stdout",
     "output_type": "stream",
     "text": [
      "Hello World\n"
     ]
    }
   ],
   "source": [
    "import camelcase\n",
    "\n",
    "c = camelcase.CamelCase()\n",
    "\n",
    "txt = \"hello world\"\n",
    "\n",
    "print(c.hump(txt))"
   ]
  },
  {
   "cell_type": "markdown",
   "metadata": {},
   "source": [
    "<a id='generators'></a>\n",
    "\n",
    "<h1 style = \"color:red;text-align: center;font-size:50px\"> <b>\n",
    "    Generators\n",
    "</b> </h1>"
   ]
  },
  {
   "cell_type": "markdown",
   "metadata": {},
   "source": [
    "<a id='st1'></a>\n",
    "\n",
    "<h1 style = \"color:green;font-size:30px\" dir = \"ltr\"> <b>\n",
    "    Meaning:\n",
    "</b> </h1> "
   ]
  },
  {
   "cell_type": "markdown",
   "metadata": {},
   "source": [
    "A Generator in Python is a function that returns an iterator using the `Yield` keyword.\n",
    "\n",
    "A generator function in Python is defined like a normal function, but whenever it needs to generate a value, it does so with the `yield` keyword rather than `return`. If the body of a def contains `yield`, the function automatically becomes a Python generator function. "
   ]
  },
  {
   "cell_type": "code",
   "execution_count": 55,
   "metadata": {},
   "outputs": [
    {
     "name": "stdout",
     "output_type": "stream",
     "text": [
      "1\n",
      "Hi\n",
      "2\n",
      "3\n"
     ]
    }
   ],
   "source": [
    "def simpleGeneratorFun():\n",
    "    yield 1   \n",
    "    print(\"Hi\")         \n",
    "    yield 2            \n",
    "    yield 3            \n",
    " \n",
    "for value in simpleGeneratorFun(): \n",
    "    print(value)"
   ]
  },
  {
   "cell_type": "markdown",
   "metadata": {},
   "source": [
    "In this example, we will create two generators for Fibonacci Numbers, first a simple generator and second generator using a for loop."
   ]
  },
  {
   "cell_type": "code",
   "execution_count": 53,
   "metadata": {},
   "outputs": [
    {
     "name": "stdout",
     "output_type": "stream",
     "text": [
      "1\n",
      "1\n",
      "2\n",
      "3\n",
      "5\n",
      "8\n",
      "13\n",
      "21\n",
      "34\n",
      "55\n",
      "89\n"
     ]
    }
   ],
   "source": [
    "def fib(limit):\n",
    "    a, b = 0, 1\n",
    "    while b < limit:\n",
    "        yield b\n",
    "        a, b = b, a + b\n",
    "\n",
    "# Create a generator object\n",
    "x = fib(100)\n",
    "\n",
    "# Iterate over the generator object and print each value\n",
    "for i in x:\n",
    "    print(i)"
   ]
  },
  {
   "cell_type": "markdown",
   "metadata": {},
   "source": [
    "<a id='st1'></a>\n",
    "\n",
    "<h1 style = \"color:green;font-size:30px\" dir = \"ltr\"> <b>\n",
    "    Generator Expression:\n",
    "</b> </h1> "
   ]
  },
  {
   "cell_type": "markdown",
   "metadata": {},
   "source": [
    "In Python, generator expression is another way of writing the generator function. It uses the Python list comprehension technique but instead of storing the elements in a list in memory, it creates generator objects.\n",
    "\n",
    "The generator expression in Python has the following Syntax:\n",
    "\n",
    "Syntax:\n",
    "\n",
    "```python\n",
    "(expression for item in iterable)\n",
    "```"
   ]
  },
  {
   "cell_type": "code",
   "execution_count": 54,
   "metadata": {},
   "outputs": [
    {
     "name": "stdout",
     "output_type": "stream",
     "text": [
      "0\n",
      "10\n",
      "20\n"
     ]
    }
   ],
   "source": [
    "# generator expression\n",
    "generator_exp = (i * 5 for i in range(5) if i%2==0)\n",
    "\n",
    "for i in generator_exp:\n",
    "    print(i)"
   ]
  },
  {
   "cell_type": "markdown",
   "metadata": {},
   "source": [
    "<a id='id'></a>\n",
    "\n",
    "<h1 style = \"color:red;text-align: center;font-size:50px\"> <b>\n",
    "    ID\n",
    "</b> </h1>"
   ]
  },
  {
   "cell_type": "markdown",
   "metadata": {},
   "source": [
    "<a id='st1'></a>\n",
    "\n",
    "<h1 style = \"color:green;font-size:30px\" dir = \"ltr\"> <b>\n",
    "    Definition and Usage:\n",
    "</b> </h1> "
   ]
  },
  {
   "cell_type": "markdown",
   "metadata": {},
   "source": [
    "The `id()` function returns a unique id for the specified object.\n",
    "\n",
    "All objects in Python has its own unique id.\n",
    "\n",
    "The id is assigned to the object when it is created.\n",
    "\n",
    "The id is the object's memory address, and will be different for each time you run the program. (except for some object that has a constant unique id, like integers from -5 to 256)"
   ]
  },
  {
   "cell_type": "code",
   "execution_count": 68,
   "metadata": {},
   "outputs": [
    {
     "name": "stdout",
     "output_type": "stream",
     "text": [
      "1532794125440\n",
      "1532794125440\n",
      "1532799643072\n"
     ]
    }
   ],
   "source": [
    "x = ['apple', 'banana', 'cherry']\n",
    "print(id(x))\n",
    "\n",
    "y = x\n",
    "print(id(y))\n",
    "\n",
    "y = x.copy()\n",
    "print(id(y))"
   ]
  },
  {
   "cell_type": "markdown",
   "metadata": {},
   "source": [
    "<a id='st1'></a>\n",
    "\n",
    "<h1 style = \"color:green;font-size:30px\" dir = \"ltr\"> <b>\n",
    "    Shallow Copy vs Deep Copy:\n",
    "</b> </h1> "
   ]
  },
  {
   "cell_type": "markdown",
   "metadata": {},
   "source": [
    "In Python, Assignment statements do not copy objects, they create bindings between a target and an object. When we use the = operator, It only creates a new variable that shares the reference of the original object. In order to create “real copies” or “clones” of these objects, we can use the copy module in Python.\n",
    "\n",
    "In order to make a copy, we use the copy module. The `copy()` returns a shallow copy of the list, and `deepcopy()` returns a deep copy of the list.\n",
    "\n",
    "Syntax of Python Deepcopy:\n",
    "\n",
    "```python\n",
    "y = copy.deepcopy(x)\n",
    "```\n",
    "\n",
    "Syntax of Python Shallowcopy:\n",
    "\n",
    "```python\n",
    "y = copy.copy(x)\n",
    "```\n",
    "\n"
   ]
  },
  {
   "cell_type": "markdown",
   "metadata": {},
   "source": [
    "#### **What is Shallow copy in Python?**\n",
    "\n",
    "A shallow copy creates a new compound object and then references the objects contained in the original within it, which means it constructs a new collection object and then populates it with references to the child objects found in the original. The copying process does not recurse and therefore won’t create copies of the child objects themselves. In the case of shallow copy, a reference of an object is copied into another object. It means that any changes made to a copy of an object do reflect in the original object. In python, this is implemented using the `copy()` function. "
   ]
  },
  {
   "cell_type": "markdown",
   "metadata": {},
   "source": [
    "<img width=600 src=\"https://media.geeksforgeeks.org/wp-content/uploads/shallow-copy.jpg\" align=center> "
   ]
  },
  {
   "cell_type": "code",
   "execution_count": 9,
   "metadata": {},
   "outputs": [
    {
     "name": "stdout",
     "output_type": "stream",
     "text": [
      "The original elements before shallow copying\n",
      "1 2 [3, 3] 4 \n",
      "The original elements after shallow copying\n",
      "1 2 [7, 7] 4 \n",
      "check their id\n",
      "2968579261376\n",
      "2968579261376\n"
     ]
    }
   ],
   "source": [
    "import copy\n",
    "\n",
    "list_original = [1, 2, [3,3], 4]\n",
    "list_copy = copy.copy(list_original)    # Shallow Copy\n",
    "print (\"The original elements before shallow copying\")\n",
    "for i in range(0,len(list_original)):\n",
    "    print (list_original[i],end=\" \")\n",
    "print(\"\\r\")\n",
    "\n",
    "list_copy[2][0] = 7\n",
    "list_copy[2][1] = 7\n",
    "print (\"The original elements after shallow copying\")\n",
    "for i in range(0,len( list_original)):\n",
    "    print (list_original[i],end=\" \")\n",
    "print(\"\\r\")\n",
    "\n",
    "print(\"check their id\")\n",
    "print(id(list_original[2]))\n",
    "print(id(list_copy[2]))"
   ]
  },
  {
   "cell_type": "markdown",
   "metadata": {},
   "source": [
    "#### **What is Deep copy in Python?**\n",
    "\n",
    "A deep copy creates a new compound object before inserting copies of the items found in the original into it in a recursive manner. It means first constructing a new collection object and then recursively populating it with copies of the child objects found in the original. In the case of deep copy, a copy of the object is copied into another object. It means that any changes made to a copy of the object do not reflect in the original object. "
   ]
  },
  {
   "cell_type": "markdown",
   "metadata": {},
   "source": [
    "<img width=600 src=\"https://media.geeksforgeeks.org/wp-content/uploads/deep-copy.jpg\" align=center> "
   ]
  },
  {
   "cell_type": "code",
   "execution_count": 10,
   "metadata": {},
   "outputs": [
    {
     "name": "stdout",
     "output_type": "stream",
     "text": [
      "The original elements before shallow copying\n",
      "1 2 [3, 3] 4 \n",
      "The original elements after shallow copying\n",
      "1 2 [3, 3] 4 \n",
      "check their id\n",
      "2968579297664\n",
      "2968579271872\n"
     ]
    }
   ],
   "source": [
    "import copy\n",
    "\n",
    "list_original = [1, 2, [3,3], 4]\n",
    "list_copy = copy.deepcopy(list_original)   # Deep Copy\n",
    "print (\"The original elements before shallow copying\")\n",
    "for i in range(0,len(list_original)):\n",
    "    print (list_original[i],end=\" \")\n",
    "print(\"\\r\")\n",
    "\n",
    "list_copy[2][0] = 7\n",
    "list_copy[2][1] = 7\n",
    "print (\"The original elements after shallow copying\")\n",
    "for i in range(0,len( list_original)):\n",
    "    print (list_original[i],end=\" \")\n",
    "print(\"\\r\")\n",
    "\n",
    "print(\"check their id\")\n",
    "print(id(list_original[2]))\n",
    "print(id(list_copy[2]))"
   ]
  },
  {
   "cell_type": "markdown",
   "metadata": {},
   "source": [
    "<a id='references'></a>\n",
    "\n",
    "<h1 style = \"color:red;text-align: center;font-size:50px\"> <b>\n",
    "    References\n",
    "</b> </h1>"
   ]
  },
  {
   "cell_type": "markdown",
   "metadata": {},
   "source": [
    "https://docs.python.org/3/tutorial/index.html\n",
    "\n",
    "https://www.w3schools.com/python/\n",
    "\n",
    "https://www.geeksforgeeks.org/python-programming-language-tutorial/\n",
    "\n",
    "https://www.tutorialspoint.com/python/index.htm"
   ]
  }
 ],
 "metadata": {
  "kernelspec": {
   "display_name": "base",
   "language": "python",
   "name": "python3"
  },
  "language_info": {
   "codemirror_mode": {
    "name": "ipython",
    "version": 3
   },
   "file_extension": ".py",
   "mimetype": "text/x-python",
   "name": "python",
   "nbconvert_exporter": "python",
   "pygments_lexer": "ipython3",
   "version": "3.11.5"
  }
 },
 "nbformat": 4,
 "nbformat_minor": 2
}
